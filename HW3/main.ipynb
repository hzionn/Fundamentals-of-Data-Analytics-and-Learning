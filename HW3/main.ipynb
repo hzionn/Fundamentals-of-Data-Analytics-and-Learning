{
  "cells": [
    {
      "cell_type": "markdown",
      "id": "effective-sugar",
      "metadata": {
        "id": "effective-sugar"
      },
      "source": [
        "# Boston House Prices Prediction\n",
        "- Kaggle 連結: https://www.kaggle.com/vikrishnan/boston-house-prices\n",
        "    - 供參考用，本次作業使用 scikit-learn 內裝的 dataset"
      ]
    },
    {
      "cell_type": "markdown",
      "id": "objective-motor",
      "metadata": {
        "id": "objective-motor"
      },
      "source": [
        "## 繳交規則\n",
        "\n",
        "1. 請將**當前資料夾**命名為 `FDA_HW3_你的學號`\n",
        "    - 例如：`FDA_HW3_F12345678`\n",
        "    - 所有**英文**都必須**大寫**\n",
        "    - 所有**文字**都必須在 **ASCII** 範圍\n",
        "2. 請將本檔案命名為 `main.ipynb`\n",
        "3. 請描述開發所需要的**環境**，包含：\n",
        "    - **作業系統**與**發行版本**\n",
        "        - 例如：Windows、Mac、Linux 等\n",
        "        - 需要填寫系統**名稱**與**版本**\n",
        "    - **程式執行環境**\n",
        "        - 例如：jupyter、kaggle kernel、colab 等\n",
        "        - 如果是 jupyter 請**填寫**版本\n",
        "        - 如果是雲端計算資源**不需填寫**版本\n",
        "        - 請**勿**使用**付費**資源，助教薪水**微薄**\n",
        "    - **python 版本**\n",
        "        - 例如：3.6.9\n",
        "        - 填寫**至少**能執行的版本即可\n",
        "    - **安裝環境**\n",
        "        - 例如使用 `pip`、`conda` 等\n",
        "        - 助教會以虛擬環境測試\n",
        "    - **安裝套件**與**版本**\n",
        "        - 請使用 `requirements.txt`\n",
        "        - 助教會以虛擬環境測試\n",
        "        - 請**不要**附上**多餘**的套件\n",
        "    - **計算資源**\n",
        "        - 使用 CPU **數量**\n",
        "        - GPU 版本\n",
        "    - **執行**所需花費**時間**\n",
        "        - 請**不要更改**擁有註解 `請勿更動此區塊程式碼` 的程式碼區塊\n",
        "4. 請**保留執行結果**讓助教可以直接觀看\n",
        "    - 請記得使用 **Save**\n",
        "    - **雲端**計算資源請**儲存**後**下載**檔案\n",
        "    - 所有程式區塊**必須依序執行**\n",
        "    - 請**不要**保留**多餘**的程式區塊\n",
        "5. 請**控制隨機亂數**讓實驗結果可以**重現**\n",
        "    - 關鍵字：**random seed**\n",
        "6. 請**不要**上傳**多餘**的檔案\n",
        "    - 不要上傳**隱藏**檔案，包含 `.git`、`.ipynb_checkpoints` 等\n",
        "    - 不要上傳**虛擬環境**\n",
        "7. 請附上**參考連結**\n",
        "    - 可以參考公開的 kernel\n",
        "    - 沒附上連結者視同**瓢竊**\n",
        "    - 使用的**演算法**請附上來源，並大致描述概念\n",
        "8. 請**壓縮**成 `zip` 並上傳至 [moodle](http://moodle.ncku.edu.tw/)\n",
        "    - 例如 `FDA_HW3_F12345678.zip`"
      ]
    },
    {
      "cell_type": "markdown",
      "id": "inappropriate-stock",
      "metadata": {
        "id": "inappropriate-stock"
      },
      "source": [
        "## 評分標準\n",
        "\n",
        "如果有參考其他作法卻沒有附上來源，則直接視為瓢竊，得分為 $-\\infty$。\n",
        "\n",
        "### 扣分標準\n",
        "\n",
        "|規則|沒滿足規則失分|\n",
        "|-|-|\n",
        "|資料夾名稱符合繳交規則|-5|\n",
        "|檔案名稱符合繳交規則|-5|\n",
        "|填寫環境需求|-0|\n",
        "|填寫計算資源|-0|\n",
        "|提供 `requirements.txt`|-5|\n",
        "|將資料夾壓縮成 `zip`|-5|\n",
        "|不更改擁有註解 `請勿更動此區塊程式碼` 的程式碼區塊|-5|\n",
        "|計算並顯示執行時間|-5|\n",
        "|控制隨機亂數讓實驗結果可以重現|-5|\n",
        "\n",
        "### 得分標準\n",
        "\n",
        "|規則|滿足規則得分|\n",
        "|-|-|\n",
        "|在需要進行說明的cell以markdown語法進行說明|0|\n",
        "|TODO #1: 整理資料|+5|\n",
        "|TODO #2: 請進行統計各個 feature 的缺失值數目|+5|\n",
        "|TODO #3: 利用 Seaborn 畫箱型圖|+10|\n",
        "|TODO #4: 利用 Seaborn 進行 Heatmap 作圖|+10|\n",
        "|TODO #5: 挑選特徵|+10|\n",
        "|TODO #6: 呈現特徵分佈|+10|\n",
        "|TODO #7: 切分資料|+10|\n",
        "|TODO #8: 訓練 Linear Regression 模型|+10|\n",
        "|TODO #9: 訓練 Random Forest Regressor 模型|+10|\n",
        "|TODO #10: 參數調整|+10|\n",
        "|TODO #11: 訓練 其他的 regression 模型|+10|\n",
        "|(Bonus) TODO #12: 超越助教的分數|+10|"
      ]
    },
    {
      "cell_type": "markdown",
      "id": "deca3c1b",
      "metadata": {
        "id": "deca3c1b"
      },
      "source": [
        "## 環境\n",
        "\n",
        "請填寫當前執行使用的環境。\n",
        "\n",
        "|環境|名稱|版本|\n",
        "|-|-|-|\n",
        "|作業系統|MacOS|Monterey|\n",
        "|程式執行環境|jupyter notebook|6.4.5|\n",
        "|python 版本|python3|3.9.7|\n",
        "|安裝環境|pip|21.2.4|"
      ]
    },
    {
      "cell_type": "markdown",
      "id": "1d24be30",
      "metadata": {
        "id": "1d24be30"
      },
      "source": [
        "## 安裝\n",
        "\n",
        "請填寫安裝套件需要的指令\n",
        "\n",
        "```sh\n",
        "pip install -r requirements.txt\n",
        "```"
      ]
    },
    {
      "cell_type": "markdown",
      "id": "1a5f5e5f",
      "metadata": {
        "id": "1a5f5e5f"
      },
      "source": [
        "## 計算資源\n",
        "\n",
        "請填寫執行程式所需要的計算資源，請確保所有資源限制在單一個人桌上型電腦且能夠以總市價低於 5 萬的手段取得。\n",
        "\n",
        "|計算資源|答案|\n",
        "|-|-|\n",
        "|使用 CPU 核心數|1>=核心數<4|\n",
        "|記憶體需求|$\\leq 2$GB|\n",
        "|有無使用 GPU|無|\n",
        "|GPU 版本|無|\n",
        "|GPU 記憶體需求|無|"
      ]
    },
    {
      "cell_type": "markdown",
      "id": "45e33dd5",
      "metadata": {
        "id": "45e33dd5"
      },
      "source": [
        "## 參考連結\n",
        "\n",
        "- 有無參考他人之實驗結果：有\n",
        "1. https://pyimagesearch.com/2019/01/21/regression-with-keras/\n",
        "\n",
        "- 有無參考使用套件之介紹說明：有\n",
        "1. https://scikit-learn.org/stable/modules/generated/sklearn.linear_model.LinearRegression.html#sklearn.linear_model.LinearRegression\n",
        "2. https://scikit-learn.org/stable/modules/generated/sklearn.ensemble.RandomForestRegressor.html\n",
        "3. https://towardsdatascience.com/linear-regression-models-4a3d14b8d368\n",
        "4. https://machinelearningmastery.com/calculate-feature-importance-with-python/\n",
        "5. https://scikit-learn.org/stable/modules/generated/sklearn.model_selection.GridSearchCV.html"
      ]
    },
    {
      "cell_type": "code",
      "execution_count": 1,
      "id": "unsigned-berlin",
      "metadata": {
        "id": "unsigned-berlin"
      },
      "outputs": [],
      "source": [
        "# 請勿更動此區塊程式碼\n",
        "\n",
        "import time\n",
        "\n",
        "EXECUTION_START_TIME = time.time() # 計算執行時間"
      ]
    },
    {
      "cell_type": "code",
      "execution_count": 2,
      "id": "sufficient-advocacy",
      "metadata": {
        "id": "sufficient-advocacy"
      },
      "outputs": [],
      "source": [
        "# 載入必要套件\n",
        "\n",
        "from sklearn.datasets import load_boston\n",
        "from sklearn.metrics import mean_squared_error as MSE\n",
        "from sklearn.metrics import r2_score\n",
        "import numpy as np\n",
        "import pandas as pd"
      ]
    },
    {
      "cell_type": "markdown",
      "id": "brief-education",
      "metadata": {
        "id": "brief-education"
      },
      "source": [
        "## 載入資料"
      ]
    },
    {
      "cell_type": "code",
      "execution_count": 3,
      "id": "excessive-contents",
      "metadata": {
        "colab": {
          "base_uri": "https://localhost:8080/"
        },
        "id": "excessive-contents",
        "outputId": "c90d6b28-47a8-47c7-a5df-f0f38e782b24"
      },
      "outputs": [
        {
          "output_type": "stream",
          "name": "stdout",
          "text": [
            "<class 'sklearn.utils.Bunch'>\n"
          ]
        },
        {
          "output_type": "stream",
          "name": "stderr",
          "text": [
            "/usr/local/lib/python3.7/dist-packages/sklearn/utils/deprecation.py:87: FutureWarning: Function load_boston is deprecated; `load_boston` is deprecated in 1.0 and will be removed in 1.2.\n",
            "\n",
            "    The Boston housing prices dataset has an ethical problem. You can refer to\n",
            "    the documentation of this function for further details.\n",
            "\n",
            "    The scikit-learn maintainers therefore strongly discourage the use of this\n",
            "    dataset unless the purpose of the code is to study and educate about\n",
            "    ethical issues in data science and machine learning.\n",
            "\n",
            "    In this special case, you can fetch the dataset from the original\n",
            "    source::\n",
            "\n",
            "        import pandas as pd\n",
            "        import numpy as np\n",
            "\n",
            "\n",
            "        data_url = \"http://lib.stat.cmu.edu/datasets/boston\"\n",
            "        raw_df = pd.read_csv(data_url, sep=\"\\s+\", skiprows=22, header=None)\n",
            "        data = np.hstack([raw_df.values[::2, :], raw_df.values[1::2, :2]])\n",
            "        target = raw_df.values[1::2, 2]\n",
            "\n",
            "    Alternative datasets include the California housing dataset (i.e.\n",
            "    :func:`~sklearn.datasets.fetch_california_housing`) and the Ames housing\n",
            "    dataset. You can load the datasets as follows::\n",
            "\n",
            "        from sklearn.datasets import fetch_california_housing\n",
            "        housing = fetch_california_housing()\n",
            "\n",
            "    for the California housing dataset and::\n",
            "\n",
            "        from sklearn.datasets import fetch_openml\n",
            "        housing = fetch_openml(name=\"house_prices\", as_frame=True)\n",
            "\n",
            "    for the Ames housing dataset.\n",
            "    \n",
            "  warnings.warn(msg, category=FutureWarning)\n"
          ]
        }
      ],
      "source": [
        "# 使用 scikit-learn 的資料\n",
        "\n",
        "dataset = load_boston()\n",
        "print(type(dataset))"
      ]
    },
    {
      "cell_type": "code",
      "execution_count": 4,
      "id": "solar-factory",
      "metadata": {
        "colab": {
          "base_uri": "https://localhost:8080/"
        },
        "id": "solar-factory",
        "outputId": "1ef7ce3f-de6a-4dfb-f3ab-74ceb36ee9ad"
      },
      "outputs": [
        {
          "output_type": "execute_result",
          "data": {
            "text/plain": [
              "dict_keys(['data', 'target', 'feature_names', 'DESCR', 'filename', 'data_module'])"
            ]
          },
          "metadata": {},
          "execution_count": 4
        }
      ],
      "source": [
        "# 觀察資料的 key 值有哪些\n",
        "\n",
        "dataset.keys()"
      ]
    },
    {
      "cell_type": "markdown",
      "id": "floating-preliminary",
      "metadata": {
        "id": "floating-preliminary"
      },
      "source": [
        "## 資料前處理\n",
        "### TODO #1: \n",
        "- 請將資料以 Pandas 整理成 DataFrame 的型式\n",
        "- 欄位名稱為 feature_names"
      ]
    },
    {
      "cell_type": "markdown",
      "id": "63399768",
      "metadata": {
        "id": "63399768"
      },
      "source": [
        "explanation of each columns: (paste from [kaggle](https://www.kaggle.com/datasets/vikrishnan/boston-house-prices))\n",
        "\n",
        "Each record in the database describes a Boston suburb or town. The data was drawn from the Boston Standard Metropolitan Statistical Area (SMSA) in 1970. The attributes are deﬁned as follows (taken from the UCI Machine Learning Repository1): CRIM: per capita crime rate by town\n",
        "\n",
        "1. ZN: proportion of residential land zoned for lots over 25,000 sq.ft.\n",
        "\n",
        "2. INDUS: proportion of non-retail business acres per town\n",
        "\n",
        "3. CHAS: Charles River dummy variable (= 1 if tract bounds river; 0 otherwise)\n",
        "\n",
        "4. NOX: nitric oxides concentration (parts per 10 million)\n",
        "    - 1https://archive.ics.uci.edu/ml/datasets/Housing\n",
        "    - 123\n",
        "    - 20.2. Load the Dataset 124\n",
        "\n",
        "5. RM: average number of rooms per dwelling\n",
        "\n",
        "6. AGE: proportion of owner-occupied units built prior to 1940\n",
        "\n",
        "7. DIS: weighted distances to ﬁve Boston employment centers\n",
        "\n",
        "8. RAD: index of accessibility to radial highways\n",
        "\n",
        "9. TAX: full-value property-tax rate per $10,000\n",
        "\n",
        "10. PTRATIO: pupil-teacher ratio by town 12. B: 1000(Bk−0.63)2 where Bk is the proportion of blacks by town 13. LSTAT: % lower status of the population\n",
        "\n",
        "11. MEDV: Median value of owner-occupied homes in $1000s\n",
        "    - We can see that the input attributes have a mixture of units."
      ]
    },
    {
      "cell_type": "code",
      "execution_count": 5,
      "id": "constitutional-accommodation",
      "metadata": {
        "colab": {
          "base_uri": "https://localhost:8080/",
          "height": 241
        },
        "id": "constitutional-accommodation",
        "outputId": "11657694-7e7d-4690-efc0-4186c8531a3a"
      },
      "outputs": [
        {
          "output_type": "stream",
          "name": "stdout",
          "text": [
            "this dataframe has 13 columns\n",
            "and has 506 rows\n"
          ]
        },
        {
          "output_type": "execute_result",
          "data": {
            "text/plain": [
              "      CRIM    ZN  INDUS  CHAS    NOX     RM   AGE     DIS  RAD    TAX  \\\n",
              "0  0.00632  18.0   2.31   0.0  0.538  6.575  65.2  4.0900  1.0  296.0   \n",
              "1  0.02731   0.0   7.07   0.0  0.469  6.421  78.9  4.9671  2.0  242.0   \n",
              "2  0.02729   0.0   7.07   0.0  0.469  7.185  61.1  4.9671  2.0  242.0   \n",
              "3  0.03237   0.0   2.18   0.0  0.458  6.998  45.8  6.0622  3.0  222.0   \n",
              "4  0.06905   0.0   2.18   0.0  0.458  7.147  54.2  6.0622  3.0  222.0   \n",
              "\n",
              "   PTRATIO       B  LSTAT  \n",
              "0     15.3  396.90   4.98  \n",
              "1     17.8  396.90   9.14  \n",
              "2     17.8  392.83   4.03  \n",
              "3     18.7  394.63   2.94  \n",
              "4     18.7  396.90   5.33  "
            ],
            "text/html": [
              "\n",
              "  <div id=\"df-6815603d-04cc-40e6-a65a-5a723abfdfbb\">\n",
              "    <div class=\"colab-df-container\">\n",
              "      <div>\n",
              "<style scoped>\n",
              "    .dataframe tbody tr th:only-of-type {\n",
              "        vertical-align: middle;\n",
              "    }\n",
              "\n",
              "    .dataframe tbody tr th {\n",
              "        vertical-align: top;\n",
              "    }\n",
              "\n",
              "    .dataframe thead th {\n",
              "        text-align: right;\n",
              "    }\n",
              "</style>\n",
              "<table border=\"1\" class=\"dataframe\">\n",
              "  <thead>\n",
              "    <tr style=\"text-align: right;\">\n",
              "      <th></th>\n",
              "      <th>CRIM</th>\n",
              "      <th>ZN</th>\n",
              "      <th>INDUS</th>\n",
              "      <th>CHAS</th>\n",
              "      <th>NOX</th>\n",
              "      <th>RM</th>\n",
              "      <th>AGE</th>\n",
              "      <th>DIS</th>\n",
              "      <th>RAD</th>\n",
              "      <th>TAX</th>\n",
              "      <th>PTRATIO</th>\n",
              "      <th>B</th>\n",
              "      <th>LSTAT</th>\n",
              "    </tr>\n",
              "  </thead>\n",
              "  <tbody>\n",
              "    <tr>\n",
              "      <th>0</th>\n",
              "      <td>0.00632</td>\n",
              "      <td>18.0</td>\n",
              "      <td>2.31</td>\n",
              "      <td>0.0</td>\n",
              "      <td>0.538</td>\n",
              "      <td>6.575</td>\n",
              "      <td>65.2</td>\n",
              "      <td>4.0900</td>\n",
              "      <td>1.0</td>\n",
              "      <td>296.0</td>\n",
              "      <td>15.3</td>\n",
              "      <td>396.90</td>\n",
              "      <td>4.98</td>\n",
              "    </tr>\n",
              "    <tr>\n",
              "      <th>1</th>\n",
              "      <td>0.02731</td>\n",
              "      <td>0.0</td>\n",
              "      <td>7.07</td>\n",
              "      <td>0.0</td>\n",
              "      <td>0.469</td>\n",
              "      <td>6.421</td>\n",
              "      <td>78.9</td>\n",
              "      <td>4.9671</td>\n",
              "      <td>2.0</td>\n",
              "      <td>242.0</td>\n",
              "      <td>17.8</td>\n",
              "      <td>396.90</td>\n",
              "      <td>9.14</td>\n",
              "    </tr>\n",
              "    <tr>\n",
              "      <th>2</th>\n",
              "      <td>0.02729</td>\n",
              "      <td>0.0</td>\n",
              "      <td>7.07</td>\n",
              "      <td>0.0</td>\n",
              "      <td>0.469</td>\n",
              "      <td>7.185</td>\n",
              "      <td>61.1</td>\n",
              "      <td>4.9671</td>\n",
              "      <td>2.0</td>\n",
              "      <td>242.0</td>\n",
              "      <td>17.8</td>\n",
              "      <td>392.83</td>\n",
              "      <td>4.03</td>\n",
              "    </tr>\n",
              "    <tr>\n",
              "      <th>3</th>\n",
              "      <td>0.03237</td>\n",
              "      <td>0.0</td>\n",
              "      <td>2.18</td>\n",
              "      <td>0.0</td>\n",
              "      <td>0.458</td>\n",
              "      <td>6.998</td>\n",
              "      <td>45.8</td>\n",
              "      <td>6.0622</td>\n",
              "      <td>3.0</td>\n",
              "      <td>222.0</td>\n",
              "      <td>18.7</td>\n",
              "      <td>394.63</td>\n",
              "      <td>2.94</td>\n",
              "    </tr>\n",
              "    <tr>\n",
              "      <th>4</th>\n",
              "      <td>0.06905</td>\n",
              "      <td>0.0</td>\n",
              "      <td>2.18</td>\n",
              "      <td>0.0</td>\n",
              "      <td>0.458</td>\n",
              "      <td>7.147</td>\n",
              "      <td>54.2</td>\n",
              "      <td>6.0622</td>\n",
              "      <td>3.0</td>\n",
              "      <td>222.0</td>\n",
              "      <td>18.7</td>\n",
              "      <td>396.90</td>\n",
              "      <td>5.33</td>\n",
              "    </tr>\n",
              "  </tbody>\n",
              "</table>\n",
              "</div>\n",
              "      <button class=\"colab-df-convert\" onclick=\"convertToInteractive('df-6815603d-04cc-40e6-a65a-5a723abfdfbb')\"\n",
              "              title=\"Convert this dataframe to an interactive table.\"\n",
              "              style=\"display:none;\">\n",
              "        \n",
              "  <svg xmlns=\"http://www.w3.org/2000/svg\" height=\"24px\"viewBox=\"0 0 24 24\"\n",
              "       width=\"24px\">\n",
              "    <path d=\"M0 0h24v24H0V0z\" fill=\"none\"/>\n",
              "    <path d=\"M18.56 5.44l.94 2.06.94-2.06 2.06-.94-2.06-.94-.94-2.06-.94 2.06-2.06.94zm-11 1L8.5 8.5l.94-2.06 2.06-.94-2.06-.94L8.5 2.5l-.94 2.06-2.06.94zm10 10l.94 2.06.94-2.06 2.06-.94-2.06-.94-.94-2.06-.94 2.06-2.06.94z\"/><path d=\"M17.41 7.96l-1.37-1.37c-.4-.4-.92-.59-1.43-.59-.52 0-1.04.2-1.43.59L10.3 9.45l-7.72 7.72c-.78.78-.78 2.05 0 2.83L4 21.41c.39.39.9.59 1.41.59.51 0 1.02-.2 1.41-.59l7.78-7.78 2.81-2.81c.8-.78.8-2.07 0-2.86zM5.41 20L4 18.59l7.72-7.72 1.47 1.35L5.41 20z\"/>\n",
              "  </svg>\n",
              "      </button>\n",
              "      \n",
              "  <style>\n",
              "    .colab-df-container {\n",
              "      display:flex;\n",
              "      flex-wrap:wrap;\n",
              "      gap: 12px;\n",
              "    }\n",
              "\n",
              "    .colab-df-convert {\n",
              "      background-color: #E8F0FE;\n",
              "      border: none;\n",
              "      border-radius: 50%;\n",
              "      cursor: pointer;\n",
              "      display: none;\n",
              "      fill: #1967D2;\n",
              "      height: 32px;\n",
              "      padding: 0 0 0 0;\n",
              "      width: 32px;\n",
              "    }\n",
              "\n",
              "    .colab-df-convert:hover {\n",
              "      background-color: #E2EBFA;\n",
              "      box-shadow: 0px 1px 2px rgba(60, 64, 67, 0.3), 0px 1px 3px 1px rgba(60, 64, 67, 0.15);\n",
              "      fill: #174EA6;\n",
              "    }\n",
              "\n",
              "    [theme=dark] .colab-df-convert {\n",
              "      background-color: #3B4455;\n",
              "      fill: #D2E3FC;\n",
              "    }\n",
              "\n",
              "    [theme=dark] .colab-df-convert:hover {\n",
              "      background-color: #434B5C;\n",
              "      box-shadow: 0px 1px 3px 1px rgba(0, 0, 0, 0.15);\n",
              "      filter: drop-shadow(0px 1px 2px rgba(0, 0, 0, 0.3));\n",
              "      fill: #FFFFFF;\n",
              "    }\n",
              "  </style>\n",
              "\n",
              "      <script>\n",
              "        const buttonEl =\n",
              "          document.querySelector('#df-6815603d-04cc-40e6-a65a-5a723abfdfbb button.colab-df-convert');\n",
              "        buttonEl.style.display =\n",
              "          google.colab.kernel.accessAllowed ? 'block' : 'none';\n",
              "\n",
              "        async function convertToInteractive(key) {\n",
              "          const element = document.querySelector('#df-6815603d-04cc-40e6-a65a-5a723abfdfbb');\n",
              "          const dataTable =\n",
              "            await google.colab.kernel.invokeFunction('convertToInteractive',\n",
              "                                                     [key], {});\n",
              "          if (!dataTable) return;\n",
              "\n",
              "          const docLinkHtml = 'Like what you see? Visit the ' +\n",
              "            '<a target=\"_blank\" href=https://colab.research.google.com/notebooks/data_table.ipynb>data table notebook</a>'\n",
              "            + ' to learn more about interactive tables.';\n",
              "          element.innerHTML = '';\n",
              "          dataTable['output_type'] = 'display_data';\n",
              "          await google.colab.output.renderOutput(dataTable, element);\n",
              "          const docLink = document.createElement('div');\n",
              "          docLink.innerHTML = docLinkHtml;\n",
              "          element.appendChild(docLink);\n",
              "        }\n",
              "      </script>\n",
              "    </div>\n",
              "  </div>\n",
              "  "
            ]
          },
          "metadata": {},
          "execution_count": 5
        }
      ],
      "source": [
        "df = pd.DataFrame(\n",
        "    # Please put something here.\n",
        "    dataset.data, \n",
        "    columns=dataset.feature_names\n",
        "    )\n",
        "\n",
        "print(f'this dataframe has {df.shape[1]} columns')\n",
        "print(f'and has {df.shape[0]} rows')\n",
        "\n",
        "df.head()"
      ]
    },
    {
      "cell_type": "code",
      "execution_count": 6,
      "id": "stuck-thinking",
      "metadata": {
        "colab": {
          "base_uri": "https://localhost:8080/"
        },
        "id": "stuck-thinking",
        "outputId": "ba498c4d-01e9-412a-833d-c8c7d57b6f29"
      },
      "outputs": [
        {
          "output_type": "stream",
          "name": "stdout",
          "text": [
            "Number of features:  13\n"
          ]
        }
      ],
      "source": [
        "print(\"Number of features: \", len(dataset.feature_names))"
      ]
    },
    {
      "cell_type": "markdown",
      "id": "18ce931c",
      "metadata": {
        "id": "18ce931c"
      },
      "source": [
        "As we are going to do classification, \n",
        "\n",
        "the **target** for our model to predict will be `MEDV`, \n",
        "\n",
        "so add `MEDV`'s data into our dataframe. "
      ]
    },
    {
      "cell_type": "code",
      "execution_count": 7,
      "id": "satisfactory-disease",
      "metadata": {
        "id": "satisfactory-disease"
      },
      "outputs": [],
      "source": [
        "df['MEDV'] = dataset.target"
      ]
    },
    {
      "cell_type": "markdown",
      "id": "limited-arctic",
      "metadata": {
        "id": "limited-arctic"
      },
      "source": [
        "### TODO #2: 請進行統計各個 feature 的缺失值數目"
      ]
    },
    {
      "cell_type": "code",
      "execution_count": 8,
      "id": "bigger-alfred",
      "metadata": {
        "colab": {
          "base_uri": "https://localhost:8080/"
        },
        "id": "bigger-alfred",
        "outputId": "11772a6d-c93e-4b76-ae68-2f9ee64af1a2"
      },
      "outputs": [
        {
          "output_type": "execute_result",
          "data": {
            "text/plain": [
              "CRIM       0\n",
              "ZN         0\n",
              "INDUS      0\n",
              "CHAS       0\n",
              "NOX        0\n",
              "RM         0\n",
              "AGE        0\n",
              "DIS        0\n",
              "RAD        0\n",
              "TAX        0\n",
              "PTRATIO    0\n",
              "B          0\n",
              "LSTAT      0\n",
              "MEDV       0\n",
              "dtype: int64"
            ]
          },
          "metadata": {},
          "execution_count": 8
        }
      ],
      "source": [
        "# Please use some functions of Pandas here.\n",
        "df.isna().sum()"
      ]
    },
    {
      "cell_type": "markdown",
      "id": "907a7c7d",
      "metadata": {
        "id": "907a7c7d"
      },
      "source": [
        "We can even visualise how many *NaN* value is in our data with `missingno` library.\n",
        "\n",
        "It will be shown as white blank, if there is any missing value in our dataframe. \n",
        "\n",
        "For our case, there is **no missing value**. "
      ]
    },
    {
      "cell_type": "code",
      "execution_count": 9,
      "id": "11c9f201",
      "metadata": {
        "colab": {
          "base_uri": "https://localhost:8080/",
          "height": 612
        },
        "id": "11c9f201",
        "outputId": "15181f72-ddd9-40a6-bf84-938619dfded1"
      },
      "outputs": [
        {
          "output_type": "execute_result",
          "data": {
            "text/plain": [
              "<matplotlib.axes._subplots.AxesSubplot at 0x7f2fc1fda150>"
            ]
          },
          "metadata": {},
          "execution_count": 9
        },
        {
          "output_type": "display_data",
          "data": {
            "text/plain": [
              "<Figure size 1800x720 with 2 Axes>"
            ],
            "image/png": "[encoded data removed]"
          },
          "metadata": {
            "needs_background": "light"
          }
        }
      ],
      "source": [
        "import missingno as msn\n",
        "msn.matrix(df)"
      ]
    },
    {
      "cell_type": "code",
      "execution_count": 10,
      "id": "representative-trade",
      "metadata": {
        "id": "representative-trade"
      },
      "outputs": [],
      "source": [
        "# libraries for plotting\n",
        "import seaborn as sns\n",
        "import matplotlib.pyplot as plt"
      ]
    },
    {
      "cell_type": "markdown",
      "id": "devoted-professor",
      "metadata": {
        "id": "devoted-professor"
      },
      "source": [
        "## 觀察資料的特性"
      ]
    },
    {
      "cell_type": "markdown",
      "id": "promotional-banner",
      "metadata": {
        "id": "promotional-banner"
      },
      "source": [
        "### TODO #3: 利用 Seaborn 畫箱型圖，並進行說明\n",
        "- 觀察每一個 features 的數值分佈\n",
        "- 可以用來決定是否要對資料的數值進行標準化"
      ]
    },
    {
      "cell_type": "markdown",
      "id": "f6825c60",
      "metadata": {
        "id": "f6825c60"
      },
      "source": [
        "Plot boxplot to understand how each feature distribute. \n",
        "\n",
        "Not going to plot `CHAS` column, because it contains only binary value to see if the house's tract bounds the river or not. "
      ]
    },
    {
      "cell_type": "code",
      "execution_count": 11,
      "id": "secret-oxford",
      "metadata": {
        "colab": {
          "base_uri": "https://localhost:8080/",
          "height": 1000
        },
        "id": "secret-oxford",
        "outputId": "55f18136-8dd7-42f3-e77e-7d501c9913a9"
      },
      "outputs": [
        {
          "output_type": "stream",
          "name": "stderr",
          "text": [
            "/usr/local/lib/python3.7/dist-packages/seaborn/_decorators.py:43: FutureWarning: Pass the following variable as a keyword arg: x. From version 0.12, the only valid positional argument will be `data`, and passing other arguments without an explicit keyword will result in an error or misinterpretation.\n",
            "  FutureWarning\n"
          ]
        },
        {
          "output_type": "display_data",
          "data": {
            "text/plain": [
              "<Figure size 432x288 with 1 Axes>"
            ],
            "image/png": "[encoded data removed]"
          },
          "metadata": {
            "needs_background": "light"
          }
        },
        {
          "output_type": "stream",
          "name": "stderr",
          "text": [
            "/usr/local/lib/python3.7/dist-packages/seaborn/_decorators.py:43: FutureWarning: Pass the following variable as a keyword arg: x. From version 0.12, the only valid positional argument will be `data`, and passing other arguments without an explicit keyword will result in an error or misinterpretation.\n",
            "  FutureWarning\n"
          ]
        },
        {
          "output_type": "display_data",
          "data": {
            "text/plain": [
              "<Figure size 432x288 with 1 Axes>"
            ],
            "image/png": "[encoded data removed]"
          },
          "metadata": {
            "needs_background": "light"
          }
        },
        {
          "output_type": "stream",
          "name": "stderr",
          "text": [
            "/usr/local/lib/python3.7/dist-packages/seaborn/_decorators.py:43: FutureWarning: Pass the following variable as a keyword arg: x. From version 0.12, the only valid positional argument will be `data`, and passing other arguments without an explicit keyword will result in an error or misinterpretation.\n",
            "  FutureWarning\n"
          ]
        },
        {
          "output_type": "display_data",
          "data": {
            "text/plain": [
              "<Figure size 432x288 with 1 Axes>"
            ],
            "image/png": "[encoded data removed]"
          },
          "metadata": {
            "needs_background": "light"
          }
        },
        {
          "output_type": "stream",
          "name": "stderr",
          "text": [
            "/usr/local/lib/python3.7/dist-packages/seaborn/_decorators.py:43: FutureWarning: Pass the following variable as a keyword arg: x. From version 0.12, the only valid positional argument will be `data`, and passing other arguments without an explicit keyword will result in an error or misinterpretation.\n",
            "  FutureWarning\n"
          ]
        },
        {
          "output_type": "display_data",
          "data": {
            "text/plain": [
              "<Figure size 432x288 with 1 Axes>"
            ],
            "image/png": "[encoded data removed]"
          },
          "metadata": {
            "needs_background": "light"
          }
        },
        {
          "output_type": "stream",
          "name": "stderr",
          "text": [
            "/usr/local/lib/python3.7/dist-packages/seaborn/_decorators.py:43: FutureWarning: Pass the following variable as a keyword arg: x. From version 0.12, the only valid positional argument will be `data`, and passing other arguments without an explicit keyword will result in an error or misinterpretation.\n",
            "  FutureWarning\n"
          ]
        },
        {
          "output_type": "display_data",
          "data": {
            "text/plain": [
              "<Figure size 432x288 with 1 Axes>"
            ],
            "image/png": "[encoded data removed]"
          },
          "metadata": {
            "needs_background": "light"
          }
        },
        {
          "output_type": "stream",
          "name": "stderr",
          "text": [
            "/usr/local/lib/python3.7/dist-packages/seaborn/_decorators.py:43: FutureWarning: Pass the following variable as a keyword arg: x. From version 0.12, the only valid positional argument will be `data`, and passing other arguments without an explicit keyword will result in an error or misinterpretation.\n",
            "  FutureWarning\n"
          ]
        },
        {
          "output_type": "display_data",
          "data": {
            "text/plain": [
              "<Figure size 432x288 with 1 Axes>"
            ],
            "image/png": "[encoded data removed]"
          },
          "metadata": {
            "needs_background": "light"
          }
        },
        {
          "output_type": "stream",
          "name": "stderr",
          "text": [
            "/usr/local/lib/python3.7/dist-packages/seaborn/_decorators.py:43: FutureWarning: Pass the following variable as a keyword arg: x. From version 0.12, the only valid positional argument will be `data`, and passing other arguments without an explicit keyword will result in an error or misinterpretation.\n",
            "  FutureWarning\n"
          ]
        },
        {
          "output_type": "display_data",
          "data": {
            "text/plain": [
              "<Figure size 432x288 with 1 Axes>"
            ],
            "image/png": "[encoded data removed]"
          },
          "metadata": {
            "needs_background": "light"
          }
        },
        {
          "output_type": "stream",
          "name": "stderr",
          "text": [
            "/usr/local/lib/python3.7/dist-packages/seaborn/_decorators.py:43: FutureWarning: Pass the following variable as a keyword arg: x. From version 0.12, the only valid positional argument will be `data`, and passing other arguments without an explicit keyword will result in an error or misinterpretation.\n",
            "  FutureWarning\n"
          ]
        },
        {
          "output_type": "display_data",
          "data": {
            "text/plain": [
              "<Figure size 432x288 with 1 Axes>"
            ],
            "image/png": "[encoded data removed]"
          },
          "metadata": {
            "needs_background": "light"
          }
        },
        {
          "output_type": "stream",
          "name": "stderr",
          "text": [
            "/usr/local/lib/python3.7/dist-packages/seaborn/_decorators.py:43: FutureWarning: Pass the following variable as a keyword arg: x. From version 0.12, the only valid positional argument will be `data`, and passing other arguments without an explicit keyword will result in an error or misinterpretation.\n",
            "  FutureWarning\n"
          ]
        },
        {
          "output_type": "display_data",
          "data": {
            "text/plain": [
              "<Figure size 432x288 with 1 Axes>"
            ],
            "image/png": "[encoded data removed]"
          },
          "metadata": {
            "needs_background": "light"
          }
        },
        {
          "output_type": "stream",
          "name": "stderr",
          "text": [
            "/usr/local/lib/python3.7/dist-packages/seaborn/_decorators.py:43: FutureWarning: Pass the following variable as a keyword arg: x. From version 0.12, the only valid positional argument will be `data`, and passing other arguments without an explicit keyword will result in an error or misinterpretation.\n",
            "  FutureWarning\n"
          ]
        },
        {
          "output_type": "display_data",
          "data": {
            "text/plain": [
              "<Figure size 432x288 with 1 Axes>"
            ],
            "image/png": "[encoded data removed]"
          },
          "metadata": {
            "needs_background": "light"
          }
        },
        {
          "output_type": "stream",
          "name": "stderr",
          "text": [
            "/usr/local/lib/python3.7/dist-packages/seaborn/_decorators.py:43: FutureWarning: Pass the following variable as a keyword arg: x. From version 0.12, the only valid positional argument will be `data`, and passing other arguments without an explicit keyword will result in an error or misinterpretation.\n",
            "  FutureWarning\n"
          ]
        },
        {
          "output_type": "display_data",
          "data": {
            "text/plain": [
              "<Figure size 432x288 with 1 Axes>"
            ],
            "image/png": "[encoded data removed]"
          },
          "metadata": {
            "needs_background": "light"
          }
        },
        {
          "output_type": "stream",
          "name": "stderr",
          "text": [
            "/usr/local/lib/python3.7/dist-packages/seaborn/_decorators.py:43: FutureWarning: Pass the following variable as a keyword arg: x. From version 0.12, the only valid positional argument will be `data`, and passing other arguments without an explicit keyword will result in an error or misinterpretation.\n",
            "  FutureWarning\n"
          ]
        },
        {
          "output_type": "display_data",
          "data": {
            "text/plain": [
              "<Figure size 432x288 with 1 Axes>"
            ],
            "image/png": "[encoded data removed]"
          },
          "metadata": {
            "needs_background": "light"
          }
        },
        {
          "output_type": "stream",
          "name": "stderr",
          "text": [
            "/usr/local/lib/python3.7/dist-packages/seaborn/_decorators.py:43: FutureWarning: Pass the following variable as a keyword arg: x. From version 0.12, the only valid positional argument will be `data`, and passing other arguments without an explicit keyword will result in an error or misinterpretation.\n",
            "  FutureWarning\n"
          ]
        },
        {
          "output_type": "display_data",
          "data": {
            "text/plain": [
              "<Figure size 432x288 with 1 Axes>"
            ],
            "image/png": "[encoded data removed]"
          },
          "metadata": {
            "needs_background": "light"
          }
        }
      ],
      "source": [
        "# Plot a boxplot with Seaborn\n",
        "\n",
        "for col in df.columns:\n",
        "    if col != 'CHAS':\n",
        "        sns.boxplot(df[col])\n",
        "        plt.show()"
      ]
    },
    {
      "cell_type": "markdown",
      "id": "b1e6502e",
      "metadata": {
        "id": "b1e6502e"
      },
      "source": [
        "Noticed that distribution of `CRIM`, `ZN`, `RM`, `B` and `MEDV` are quite **concentrated**. "
      ]
    },
    {
      "cell_type": "markdown",
      "id": "fba31c50",
      "metadata": {
        "id": "fba31c50"
      },
      "source": [
        "cover some descriptive statistics here: "
      ]
    },
    {
      "cell_type": "code",
      "execution_count": 12,
      "id": "929c14fd",
      "metadata": {
        "colab": {
          "base_uri": "https://localhost:8080/",
          "height": 300
        },
        "id": "929c14fd",
        "outputId": "6154f69e-da17-4c34-eeef-c3ddd8411ce8"
      },
      "outputs": [
        {
          "output_type": "execute_result",
          "data": {
            "text/plain": [
              "             CRIM          ZN       INDUS        CHAS         NOX          RM  \\\n",
              "count  506.000000  506.000000  506.000000  506.000000  506.000000  506.000000   \n",
              "mean     3.613524   11.363636   11.136779    0.069170    0.554695    6.284634   \n",
              "std      8.601545   23.322453    6.860353    0.253994    0.115878    0.702617   \n",
              "min      0.006320    0.000000    0.460000    0.000000    0.385000    3.561000   \n",
              "25%      0.082045    0.000000    5.190000    0.000000    0.449000    5.885500   \n",
              "50%      0.256510    0.000000    9.690000    0.000000    0.538000    6.208500   \n",
              "75%      3.677083   12.500000   18.100000    0.000000    0.624000    6.623500   \n",
              "max     88.976200  100.000000   27.740000    1.000000    0.871000    8.780000   \n",
              "\n",
              "              AGE         DIS         RAD         TAX     PTRATIO           B  \\\n",
              "count  506.000000  506.000000  506.000000  506.000000  506.000000  506.000000   \n",
              "mean    68.574901    3.795043    9.549407  408.237154   18.455534  356.674032   \n",
              "std     28.148861    2.105710    8.707259  168.537116    2.164946   91.294864   \n",
              "min      2.900000    1.129600    1.000000  187.000000   12.600000    0.320000   \n",
              "25%     45.025000    2.100175    4.000000  279.000000   17.400000  375.377500   \n",
              "50%     77.500000    3.207450    5.000000  330.000000   19.050000  391.440000   \n",
              "75%     94.075000    5.188425   24.000000  666.000000   20.200000  396.225000   \n",
              "max    100.000000   12.126500   24.000000  711.000000   22.000000  396.900000   \n",
              "\n",
              "            LSTAT        MEDV  \n",
              "count  506.000000  506.000000  \n",
              "mean    12.653063   22.532806  \n",
              "std      7.141062    9.197104  \n",
              "min      1.730000    5.000000  \n",
              "25%      6.950000   17.025000  \n",
              "50%     11.360000   21.200000  \n",
              "75%     16.955000   25.000000  \n",
              "max     37.970000   50.000000  "
            ],
            "text/html": [
              "\n",
              "  <div id=\"df-a9921ae5-30a7-4ab0-a9f1-a66c071cf761\">\n",
              "    <div class=\"colab-df-container\">\n",
              "      <div>\n",
              "<style scoped>\n",
              "    .dataframe tbody tr th:only-of-type {\n",
              "        vertical-align: middle;\n",
              "    }\n",
              "\n",
              "    .dataframe tbody tr th {\n",
              "        vertical-align: top;\n",
              "    }\n",
              "\n",
              "    .dataframe thead th {\n",
              "        text-align: right;\n",
              "    }\n",
              "</style>\n",
              "<table border=\"1\" class=\"dataframe\">\n",
              "  <thead>\n",
              "    <tr style=\"text-align: right;\">\n",
              "      <th></th>\n",
              "      <th>CRIM</th>\n",
              "      <th>ZN</th>\n",
              "      <th>INDUS</th>\n",
              "      <th>CHAS</th>\n",
              "      <th>NOX</th>\n",
              "      <th>RM</th>\n",
              "      <th>AGE</th>\n",
              "      <th>DIS</th>\n",
              "      <th>RAD</th>\n",
              "      <th>TAX</th>\n",
              "      <th>PTRATIO</th>\n",
              "      <th>B</th>\n",
              "      <th>LSTAT</th>\n",
              "      <th>MEDV</th>\n",
              "    </tr>\n",
              "  </thead>\n",
              "  <tbody>\n",
              "    <tr>\n",
              "      <th>count</th>\n",
              "      <td>506.000000</td>\n",
              "      <td>506.000000</td>\n",
              "      <td>506.000000</td>\n",
              "      <td>506.000000</td>\n",
              "      <td>506.000000</td>\n",
              "      <td>506.000000</td>\n",
              "      <td>506.000000</td>\n",
              "      <td>506.000000</td>\n",
              "      <td>506.000000</td>\n",
              "      <td>506.000000</td>\n",
              "      <td>506.000000</td>\n",
              "      <td>506.000000</td>\n",
              "      <td>506.000000</td>\n",
              "      <td>506.000000</td>\n",
              "    </tr>\n",
              "    <tr>\n",
              "      <th>mean</th>\n",
              "      <td>3.613524</td>\n",
              "      <td>11.363636</td>\n",
              "      <td>11.136779</td>\n",
              "      <td>0.069170</td>\n",
              "      <td>0.554695</td>\n",
              "      <td>6.284634</td>\n",
              "      <td>68.574901</td>\n",
              "      <td>3.795043</td>\n",
              "      <td>9.549407</td>\n",
              "      <td>408.237154</td>\n",
              "      <td>18.455534</td>\n",
              "      <td>356.674032</td>\n",
              "      <td>12.653063</td>\n",
              "      <td>22.532806</td>\n",
              "    </tr>\n",
              "    <tr>\n",
              "      <th>std</th>\n",
              "      <td>8.601545</td>\n",
              "      <td>23.322453</td>\n",
              "      <td>6.860353</td>\n",
              "      <td>0.253994</td>\n",
              "      <td>0.115878</td>\n",
              "      <td>0.702617</td>\n",
              "      <td>28.148861</td>\n",
              "      <td>2.105710</td>\n",
              "      <td>8.707259</td>\n",
              "      <td>168.537116</td>\n",
              "      <td>2.164946</td>\n",
              "      <td>91.294864</td>\n",
              "      <td>7.141062</td>\n",
              "      <td>9.197104</td>\n",
              "    </tr>\n",
              "    <tr>\n",
              "      <th>min</th>\n",
              "      <td>0.006320</td>\n",
              "      <td>0.000000</td>\n",
              "      <td>0.460000</td>\n",
              "      <td>0.000000</td>\n",
              "      <td>0.385000</td>\n",
              "      <td>3.561000</td>\n",
              "      <td>2.900000</td>\n",
              "      <td>1.129600</td>\n",
              "      <td>1.000000</td>\n",
              "      <td>187.000000</td>\n",
              "      <td>12.600000</td>\n",
              "      <td>0.320000</td>\n",
              "      <td>1.730000</td>\n",
              "      <td>5.000000</td>\n",
              "    </tr>\n",
              "    <tr>\n",
              "      <th>25%</th>\n",
              "      <td>0.082045</td>\n",
              "      <td>0.000000</td>\n",
              "      <td>5.190000</td>\n",
              "      <td>0.000000</td>\n",
              "      <td>0.449000</td>\n",
              "      <td>5.885500</td>\n",
              "      <td>45.025000</td>\n",
              "      <td>2.100175</td>\n",
              "      <td>4.000000</td>\n",
              "      <td>279.000000</td>\n",
              "      <td>17.400000</td>\n",
              "      <td>375.377500</td>\n",
              "      <td>6.950000</td>\n",
              "      <td>17.025000</td>\n",
              "    </tr>\n",
              "    <tr>\n",
              "      <th>50%</th>\n",
              "      <td>0.256510</td>\n",
              "      <td>0.000000</td>\n",
              "      <td>9.690000</td>\n",
              "      <td>0.000000</td>\n",
              "      <td>0.538000</td>\n",
              "      <td>6.208500</td>\n",
              "      <td>77.500000</td>\n",
              "      <td>3.207450</td>\n",
              "      <td>5.000000</td>\n",
              "      <td>330.000000</td>\n",
              "      <td>19.050000</td>\n",
              "      <td>391.440000</td>\n",
              "      <td>11.360000</td>\n",
              "      <td>21.200000</td>\n",
              "    </tr>\n",
              "    <tr>\n",
              "      <th>75%</th>\n",
              "      <td>3.677083</td>\n",
              "      <td>12.500000</td>\n",
              "      <td>18.100000</td>\n",
              "      <td>0.000000</td>\n",
              "      <td>0.624000</td>\n",
              "      <td>6.623500</td>\n",
              "      <td>94.075000</td>\n",
              "      <td>5.188425</td>\n",
              "      <td>24.000000</td>\n",
              "      <td>666.000000</td>\n",
              "      <td>20.200000</td>\n",
              "      <td>396.225000</td>\n",
              "      <td>16.955000</td>\n",
              "      <td>25.000000</td>\n",
              "    </tr>\n",
              "    <tr>\n",
              "      <th>max</th>\n",
              "      <td>88.976200</td>\n",
              "      <td>100.000000</td>\n",
              "      <td>27.740000</td>\n",
              "      <td>1.000000</td>\n",
              "      <td>0.871000</td>\n",
              "      <td>8.780000</td>\n",
              "      <td>100.000000</td>\n",
              "      <td>12.126500</td>\n",
              "      <td>24.000000</td>\n",
              "      <td>711.000000</td>\n",
              "      <td>22.000000</td>\n",
              "      <td>396.900000</td>\n",
              "      <td>37.970000</td>\n",
              "      <td>50.000000</td>\n",
              "    </tr>\n",
              "  </tbody>\n",
              "</table>\n",
              "</div>\n",
              "      <button class=\"colab-df-convert\" onclick=\"convertToInteractive('df-a9921ae5-30a7-4ab0-a9f1-a66c071cf761')\"\n",
              "              title=\"Convert this dataframe to an interactive table.\"\n",
              "              style=\"display:none;\">\n",
              "        \n",
              "  <svg xmlns=\"http://www.w3.org/2000/svg\" height=\"24px\"viewBox=\"0 0 24 24\"\n",
              "       width=\"24px\">\n",
              "    <path d=\"M0 0h24v24H0V0z\" fill=\"none\"/>\n",
              "    <path d=\"M18.56 5.44l.94 2.06.94-2.06 2.06-.94-2.06-.94-.94-2.06-.94 2.06-2.06.94zm-11 1L8.5 8.5l.94-2.06 2.06-.94-2.06-.94L8.5 2.5l-.94 2.06-2.06.94zm10 10l.94 2.06.94-2.06 2.06-.94-2.06-.94-.94-2.06-.94 2.06-2.06.94z\"/><path d=\"M17.41 7.96l-1.37-1.37c-.4-.4-.92-.59-1.43-.59-.52 0-1.04.2-1.43.59L10.3 9.45l-7.72 7.72c-.78.78-.78 2.05 0 2.83L4 21.41c.39.39.9.59 1.41.59.51 0 1.02-.2 1.41-.59l7.78-7.78 2.81-2.81c.8-.78.8-2.07 0-2.86zM5.41 20L4 18.59l7.72-7.72 1.47 1.35L5.41 20z\"/>\n",
              "  </svg>\n",
              "      </button>\n",
              "      \n",
              "  <style>\n",
              "    .colab-df-container {\n",
              "      display:flex;\n",
              "      flex-wrap:wrap;\n",
              "      gap: 12px;\n",
              "    }\n",
              "\n",
              "    .colab-df-convert {\n",
              "      background-color: #E8F0FE;\n",
              "      border: none;\n",
              "      border-radius: 50%;\n",
              "      cursor: pointer;\n",
              "      display: none;\n",
              "      fill: #1967D2;\n",
              "      height: 32px;\n",
              "      padding: 0 0 0 0;\n",
              "      width: 32px;\n",
              "    }\n",
              "\n",
              "    .colab-df-convert:hover {\n",
              "      background-color: #E2EBFA;\n",
              "      box-shadow: 0px 1px 2px rgba(60, 64, 67, 0.3), 0px 1px 3px 1px rgba(60, 64, 67, 0.15);\n",
              "      fill: #174EA6;\n",
              "    }\n",
              "\n",
              "    [theme=dark] .colab-df-convert {\n",
              "      background-color: #3B4455;\n",
              "      fill: #D2E3FC;\n",
              "    }\n",
              "\n",
              "    [theme=dark] .colab-df-convert:hover {\n",
              "      background-color: #434B5C;\n",
              "      box-shadow: 0px 1px 3px 1px rgba(0, 0, 0, 0.15);\n",
              "      filter: drop-shadow(0px 1px 2px rgba(0, 0, 0, 0.3));\n",
              "      fill: #FFFFFF;\n",
              "    }\n",
              "  </style>\n",
              "\n",
              "      <script>\n",
              "        const buttonEl =\n",
              "          document.querySelector('#df-a9921ae5-30a7-4ab0-a9f1-a66c071cf761 button.colab-df-convert');\n",
              "        buttonEl.style.display =\n",
              "          google.colab.kernel.accessAllowed ? 'block' : 'none';\n",
              "\n",
              "        async function convertToInteractive(key) {\n",
              "          const element = document.querySelector('#df-a9921ae5-30a7-4ab0-a9f1-a66c071cf761');\n",
              "          const dataTable =\n",
              "            await google.colab.kernel.invokeFunction('convertToInteractive',\n",
              "                                                     [key], {});\n",
              "          if (!dataTable) return;\n",
              "\n",
              "          const docLinkHtml = 'Like what you see? Visit the ' +\n",
              "            '<a target=\"_blank\" href=https://colab.research.google.com/notebooks/data_table.ipynb>data table notebook</a>'\n",
              "            + ' to learn more about interactive tables.';\n",
              "          element.innerHTML = '';\n",
              "          dataTable['output_type'] = 'display_data';\n",
              "          await google.colab.output.renderOutput(dataTable, element);\n",
              "          const docLink = document.createElement('div');\n",
              "          docLink.innerHTML = docLinkHtml;\n",
              "          element.appendChild(docLink);\n",
              "        }\n",
              "      </script>\n",
              "    </div>\n",
              "  </div>\n",
              "  "
            ]
          },
          "metadata": {},
          "execution_count": 12
        }
      ],
      "source": [
        "df.describe()"
      ]
    },
    {
      "cell_type": "markdown",
      "id": "789fbe12",
      "metadata": {
        "id": "789fbe12"
      },
      "source": [
        "From the above table, we can see there is **highest *std*** in `TAX` column. "
      ]
    },
    {
      "cell_type": "markdown",
      "id": "outdoor-symposium",
      "metadata": {
        "id": "outdoor-symposium"
      },
      "source": [
        "### TODO #4: 利用 Seaborn 進行 Heatmap 作圖，並進行說明\n",
        "- 觀察每一個特徵與房價 (MEDV) 的關聯程度\n",
        "- 使用 dr.corr() 來計算 feature 和 feature 之間的關係係數\n",
        "- 數值愈高表示愈正相關，數值愈低表示愈負相關"
      ]
    },
    {
      "cell_type": "code",
      "execution_count": 13,
      "id": "honey-adobe",
      "metadata": {
        "colab": {
          "base_uri": "https://localhost:8080/",
          "height": 558
        },
        "id": "honey-adobe",
        "outputId": "aedebdde-7bd2-425b-c2a2-ebdbbda12945"
      },
      "outputs": [
        {
          "output_type": "execute_result",
          "data": {
            "text/plain": [
              "<matplotlib.axes._subplots.AxesSubplot at 0x7f2fbf1382d0>"
            ]
          },
          "metadata": {},
          "execution_count": 13
        },
        {
          "output_type": "display_data",
          "data": {
            "text/plain": [
              "<Figure size 1152x648 with 2 Axes>"
            ],
            "image/png": "[encoded data removed]"
          },
          "metadata": {
            "needs_background": "light"
          }
        }
      ],
      "source": [
        "plt.figure(figsize=(16, 9))\n",
        "\n",
        "# Please use a function of Pandas here.\n",
        "corr = df.corr()\n",
        "\n",
        "# Plot a heatmap with Seaborn\n",
        "sns.heatmap(corr, annot=True)"
      ]
    },
    {
      "cell_type": "markdown",
      "id": "213f2050",
      "metadata": {
        "id": "213f2050"
      },
      "source": [
        "From the heatmap, we know that `RAD` is highly correlated with `TAX`. \n",
        "\n",
        "For those columns who are highly correlated with our **target** `MEDV` are `RM` and `LSTAT`. "
      ]
    },
    {
      "cell_type": "markdown",
      "id": "apparent-swedish",
      "metadata": {
        "id": "apparent-swedish"
      },
      "source": [
        "### TODO #5: 挑選特徵，並進行說明\n",
        "- 觀察 heatmap 中具有\"顯著\"正相關或是\"顯著\"負相關的特徵\n",
        "- 把這些特徵進行 concatenation，得到新的 dataframe"
      ]
    },
    {
      "cell_type": "markdown",
      "id": "0d7cdcf0",
      "metadata": {
        "id": "0d7cdcf0"
      },
      "source": [
        "From the heatmap, we may choose those features that have higher correlation with `MEDV` as our model's input. "
      ]
    },
    {
      "cell_type": "code",
      "execution_count": 14,
      "id": "06d229ca",
      "metadata": {
        "colab": {
          "base_uri": "https://localhost:8080/",
          "height": 143
        },
        "id": "06d229ca",
        "outputId": "352f80e8-0a30-4bd3-bda8-8f6e24d08831"
      },
      "outputs": [
        {
          "output_type": "execute_result",
          "data": {
            "text/plain": [
              "   INDUS     RM    TAX  PTRATIO  LSTAT\n",
              "0   2.31  6.575  296.0     15.3   4.98\n",
              "1   7.07  6.421  242.0     17.8   9.14\n",
              "2   7.07  7.185  242.0     17.8   4.03"
            ],
            "text/html": [
              "\n",
              "  <div id=\"df-a9f1df36-e1cc-498c-affe-6a96b63fc851\">\n",
              "    <div class=\"colab-df-container\">\n",
              "      <div>\n",
              "<style scoped>\n",
              "    .dataframe tbody tr th:only-of-type {\n",
              "        vertical-align: middle;\n",
              "    }\n",
              "\n",
              "    .dataframe tbody tr th {\n",
              "        vertical-align: top;\n",
              "    }\n",
              "\n",
              "    .dataframe thead th {\n",
              "        text-align: right;\n",
              "    }\n",
              "</style>\n",
              "<table border=\"1\" class=\"dataframe\">\n",
              "  <thead>\n",
              "    <tr style=\"text-align: right;\">\n",
              "      <th></th>\n",
              "      <th>INDUS</th>\n",
              "      <th>RM</th>\n",
              "      <th>TAX</th>\n",
              "      <th>PTRATIO</th>\n",
              "      <th>LSTAT</th>\n",
              "    </tr>\n",
              "  </thead>\n",
              "  <tbody>\n",
              "    <tr>\n",
              "      <th>0</th>\n",
              "      <td>2.31</td>\n",
              "      <td>6.575</td>\n",
              "      <td>296.0</td>\n",
              "      <td>15.3</td>\n",
              "      <td>4.98</td>\n",
              "    </tr>\n",
              "    <tr>\n",
              "      <th>1</th>\n",
              "      <td>7.07</td>\n",
              "      <td>6.421</td>\n",
              "      <td>242.0</td>\n",
              "      <td>17.8</td>\n",
              "      <td>9.14</td>\n",
              "    </tr>\n",
              "    <tr>\n",
              "      <th>2</th>\n",
              "      <td>7.07</td>\n",
              "      <td>7.185</td>\n",
              "      <td>242.0</td>\n",
              "      <td>17.8</td>\n",
              "      <td>4.03</td>\n",
              "    </tr>\n",
              "  </tbody>\n",
              "</table>\n",
              "</div>\n",
              "      <button class=\"colab-df-convert\" onclick=\"convertToInteractive('df-a9f1df36-e1cc-498c-affe-6a96b63fc851')\"\n",
              "              title=\"Convert this dataframe to an interactive table.\"\n",
              "              style=\"display:none;\">\n",
              "        \n",
              "  <svg xmlns=\"http://www.w3.org/2000/svg\" height=\"24px\"viewBox=\"0 0 24 24\"\n",
              "       width=\"24px\">\n",
              "    <path d=\"M0 0h24v24H0V0z\" fill=\"none\"/>\n",
              "    <path d=\"M18.56 5.44l.94 2.06.94-2.06 2.06-.94-2.06-.94-.94-2.06-.94 2.06-2.06.94zm-11 1L8.5 8.5l.94-2.06 2.06-.94-2.06-.94L8.5 2.5l-.94 2.06-2.06.94zm10 10l.94 2.06.94-2.06 2.06-.94-2.06-.94-.94-2.06-.94 2.06-2.06.94z\"/><path d=\"M17.41 7.96l-1.37-1.37c-.4-.4-.92-.59-1.43-.59-.52 0-1.04.2-1.43.59L10.3 9.45l-7.72 7.72c-.78.78-.78 2.05 0 2.83L4 21.41c.39.39.9.59 1.41.59.51 0 1.02-.2 1.41-.59l7.78-7.78 2.81-2.81c.8-.78.8-2.07 0-2.86zM5.41 20L4 18.59l7.72-7.72 1.47 1.35L5.41 20z\"/>\n",
              "  </svg>\n",
              "      </button>\n",
              "      \n",
              "  <style>\n",
              "    .colab-df-container {\n",
              "      display:flex;\n",
              "      flex-wrap:wrap;\n",
              "      gap: 12px;\n",
              "    }\n",
              "\n",
              "    .colab-df-convert {\n",
              "      background-color: #E8F0FE;\n",
              "      border: none;\n",
              "      border-radius: 50%;\n",
              "      cursor: pointer;\n",
              "      display: none;\n",
              "      fill: #1967D2;\n",
              "      height: 32px;\n",
              "      padding: 0 0 0 0;\n",
              "      width: 32px;\n",
              "    }\n",
              "\n",
              "    .colab-df-convert:hover {\n",
              "      background-color: #E2EBFA;\n",
              "      box-shadow: 0px 1px 2px rgba(60, 64, 67, 0.3), 0px 1px 3px 1px rgba(60, 64, 67, 0.15);\n",
              "      fill: #174EA6;\n",
              "    }\n",
              "\n",
              "    [theme=dark] .colab-df-convert {\n",
              "      background-color: #3B4455;\n",
              "      fill: #D2E3FC;\n",
              "    }\n",
              "\n",
              "    [theme=dark] .colab-df-convert:hover {\n",
              "      background-color: #434B5C;\n",
              "      box-shadow: 0px 1px 3px 1px rgba(0, 0, 0, 0.15);\n",
              "      filter: drop-shadow(0px 1px 2px rgba(0, 0, 0, 0.3));\n",
              "      fill: #FFFFFF;\n",
              "    }\n",
              "  </style>\n",
              "\n",
              "      <script>\n",
              "        const buttonEl =\n",
              "          document.querySelector('#df-a9f1df36-e1cc-498c-affe-6a96b63fc851 button.colab-df-convert');\n",
              "        buttonEl.style.display =\n",
              "          google.colab.kernel.accessAllowed ? 'block' : 'none';\n",
              "\n",
              "        async function convertToInteractive(key) {\n",
              "          const element = document.querySelector('#df-a9f1df36-e1cc-498c-affe-6a96b63fc851');\n",
              "          const dataTable =\n",
              "            await google.colab.kernel.invokeFunction('convertToInteractive',\n",
              "                                                     [key], {});\n",
              "          if (!dataTable) return;\n",
              "\n",
              "          const docLinkHtml = 'Like what you see? Visit the ' +\n",
              "            '<a target=\"_blank\" href=https://colab.research.google.com/notebooks/data_table.ipynb>data table notebook</a>'\n",
              "            + ' to learn more about interactive tables.';\n",
              "          element.innerHTML = '';\n",
              "          dataTable['output_type'] = 'display_data';\n",
              "          await google.colab.output.renderOutput(dataTable, element);\n",
              "          const docLink = document.createElement('div');\n",
              "          docLink.innerHTML = docLinkHtml;\n",
              "          element.appendChild(docLink);\n",
              "        }\n",
              "      </script>\n",
              "    </div>\n",
              "  </div>\n",
              "  "
            ]
          },
          "metadata": {},
          "execution_count": 14
        }
      ],
      "source": [
        "columns = ['INDUS', 'RM', 'TAX', 'PTRATIO', 'LSTAT']\n",
        "X = pd.DataFrame(np.c_[df['INDUS'], df['RM'], df['TAX'], df['PTRATIO'], df['LSTAT']], # Please put features inside the bracket\n",
        "                 columns=columns) # Please put feature names here\n",
        "X.head(3)"
      ]
    },
    {
      "cell_type": "markdown",
      "id": "objective-stretch",
      "metadata": {
        "id": "objective-stretch"
      },
      "source": [
        "### TODO #6: 呈現特徵分佈，並進行說明\n",
        "- 把你選取到的\"重要特徵\"進行subplots，畫出散佈圖 (scatter plots)\n",
        "- 每一張圖的X軸是你選到的特徵、Y軸是房價('MEDV')"
      ]
    },
    {
      "cell_type": "markdown",
      "id": "d1cbf045",
      "metadata": {
        "id": "d1cbf045"
      },
      "source": [
        "Replace `scatterplot` to `regplot` can even show the regression line between two variables. "
      ]
    },
    {
      "cell_type": "code",
      "execution_count": 15,
      "id": "3eee8e94",
      "metadata": {
        "colab": {
          "base_uri": "https://localhost:8080/",
          "height": 1000
        },
        "id": "3eee8e94",
        "outputId": "d2d1ed3c-5a65-4acb-ad36-f299514d8e9c"
      },
      "outputs": [
        {
          "output_type": "display_data",
          "data": {
            "text/plain": [
              "<Figure size 1080x360 with 1 Axes>"
            ],
            "image/png": "[encoded data removed]"
          },
          "metadata": {
            "needs_background": "light"
          }
        },
        {
          "output_type": "display_data",
          "data": {
            "text/plain": [
              "<Figure size 1080x360 with 1 Axes>"
            ],
            "image/png": "[encoded data removed]"
          },
          "metadata": {
            "needs_background": "light"
          }
        },
        {
          "output_type": "display_data",
          "data": {
            "text/plain": [
              "<Figure size 1080x360 with 1 Axes>"
            ],
            "image/png": "[encoded data removed]"
          },
          "metadata": {
            "needs_background": "light"
          }
        },
        {
          "output_type": "display_data",
          "data": {
            "text/plain": [
              "<Figure size 1080x360 with 1 Axes>"
            ],
            "image/png": "[encoded data removed]"
          },
          "metadata": {
            "needs_background": "light"
          }
        },
        {
          "output_type": "display_data",
          "data": {
            "text/plain": [
              "<Figure size 1080x360 with 1 Axes>"
            ],
            "image/png": "[encoded data removed]"
          },
          "metadata": {
            "needs_background": "light"
          }
        }
      ],
      "source": [
        "for col in columns:\n",
        "    plt.figure(figsize=(15, 5))\n",
        "    sns.regplot(x=df[col], y=df['MEDV'])\n",
        "    plt.show"
      ]
    },
    {
      "cell_type": "markdown",
      "id": "alleged-ontario",
      "metadata": {
        "id": "alleged-ontario"
      },
      "source": [
        "## 訓練模型前的準備\n",
        "### TODO #7: 切分資料\n",
        "- 利用 train_test_split，將資料切成 train set 和 test set\n",
        "- 設定 train set 的比例為全部資料的 80%\n",
        "- 請記得設定 random_state 以控制隨機過程"
      ]
    },
    {
      "cell_type": "code",
      "execution_count": 16,
      "id": "renewable-bankruptcy",
      "metadata": {
        "colab": {
          "base_uri": "https://localhost:8080/"
        },
        "id": "renewable-bankruptcy",
        "outputId": "2b959210-af7b-424c-9d22-d35f639a8ac0"
      },
      "outputs": [
        {
          "output_type": "stream",
          "name": "stdout",
          "text": [
            "(404, 5)\n",
            "(102, 5)\n",
            "(404,)\n",
            "(102,)\n"
          ]
        }
      ],
      "source": [
        "from sklearn.model_selection import train_test_split\n",
        "\n",
        "X_train, X_test, Y_train, Y_test = train_test_split(\n",
        "    X, # features\n",
        "    df['MEDV'], # target\n",
        "    train_size=0.8, # 80% for training and 20% for test\n",
        "    random_state=52)\n",
        "\n",
        "print(X_train.shape) #(404, 2)\n",
        "print(X_test.shape) #(102, 2)\n",
        "print(Y_train.shape) #(404, )\n",
        "print(Y_test.shape) #(102, )"
      ]
    },
    {
      "cell_type": "markdown",
      "id": "expanded-longer",
      "metadata": {
        "id": "expanded-longer"
      },
      "source": [
        "## 訓練模型並進行評估"
      ]
    },
    {
      "cell_type": "markdown",
      "id": "seasonal-honor",
      "metadata": {
        "id": "seasonal-honor"
      },
      "source": [
        "### TODO #8: 訓練 Linear Regression 模型，並說明訓練結果\n",
        "- 利用 scikit-learn，將資料 fit 在 LinearRegression\n",
        "- 將結果繪製成散佈圖 (scatter plot)，其中 X軸 為 Y_pred、Y軸為 Y_true"
      ]
    },
    {
      "cell_type": "markdown",
      "source": [
        "Linear regression 會假設特徵（features）與目標（target）向量間的關係是會接近線性。"
      ],
      "metadata": {
        "id": "OMIsvBWKEEfJ"
      },
      "id": "OMIsvBWKEEfJ"
    },
    {
      "cell_type": "markdown",
      "id": "e803517c",
      "metadata": {
        "id": "e803517c"
      },
      "source": [
        "Name the data that our model predicted as `y_hat` (predicted data) and compare it to `Y_test` (ground truth data). "
      ]
    },
    {
      "cell_type": "code",
      "execution_count": 17,
      "id": "vital-classics",
      "metadata": {
        "id": "vital-classics"
      },
      "outputs": [],
      "source": [
        "# Modeling\n",
        "from sklearn.linear_model import LinearRegression\n",
        "\n",
        "lr = LinearRegression()\n",
        "lr_fitted = lr.fit(X_train, Y_train)\n",
        "y_hat = lr_fitted.predict(X_test)"
      ]
    },
    {
      "cell_type": "code",
      "execution_count": 18,
      "id": "sixth-voltage",
      "metadata": {
        "colab": {
          "base_uri": "https://localhost:8080/",
          "height": 0
        },
        "id": "sixth-voltage",
        "outputId": "d692f36b-890d-4970-aeee-0bf4d357114b"
      },
      "outputs": [
        {
          "output_type": "stream",
          "name": "stderr",
          "text": [
            "/usr/local/lib/python3.7/dist-packages/seaborn/_decorators.py:43: FutureWarning: Pass the following variables as keyword args: x, y. From version 0.12, the only valid positional argument will be `data`, and passing other arguments without an explicit keyword will result in an error or misinterpretation.\n",
            "  FutureWarning\n"
          ]
        },
        {
          "output_type": "display_data",
          "data": {
            "text/plain": [
              "<Figure size 1080x360 with 1 Axes>"
            ],
            "image/png": "[encoded data removed]"
          },
          "metadata": {
            "needs_background": "light"
          }
        }
      ],
      "source": [
        "# plotting the y_test vs y_pred\n",
        "\n",
        "plt.figure(figsize=(15, 5))\n",
        "sns.regplot(y_hat, Y_test)\n",
        "plt.xlabel('y_hat - predicted data')\n",
        "plt.ylabel('Y_test - ground truth data')\n",
        "plt.show()"
      ]
    },
    {
      "cell_type": "code",
      "execution_count": 19,
      "id": "c8ba9484",
      "metadata": {
        "colab": {
          "base_uri": "https://localhost:8080/"
        },
        "id": "c8ba9484",
        "outputId": "4ce46bf0-e3cc-4d06-b662-48dbec305a1c"
      },
      "outputs": [
        {
          "output_type": "stream",
          "name": "stdout",
          "text": [
            "r2 score: 0.465498921118467\n",
            "MSE: 30.021488947111216\n"
          ]
        }
      ],
      "source": [
        "print(f'r2 score: {r2_score(y_hat, Y_test)}')\n",
        "print(f'MSE: {MSE(y_hat, Y_test)}')"
      ]
    },
    {
      "cell_type": "markdown",
      "id": "progressive-perth",
      "metadata": {
        "id": "progressive-perth"
      },
      "source": [
        "### TODO #9: 訓練 Random Forest Regressor 模型\n",
        "- 利用 scikit-learn，將資料 fit 在 RandomForestRegressor 模型\n",
        "- 將結果繪製成散佈圖 (scatter plot)，其中 X軸 為 Y_pred、Y軸為 Y_true"
      ]
    },
    {
      "cell_type": "markdown",
      "source": [
        "Random forest regressor 將 random forest 結合 linear regression，將資料回歸至一條**曲線**上，並進行預測"
      ],
      "metadata": {
        "id": "8F3dtrE-LPBx"
      },
      "id": "8F3dtrE-LPBx"
    },
    {
      "cell_type": "markdown",
      "id": "261025b1",
      "metadata": {
        "id": "261025b1"
      },
      "source": [
        "Name the data that our model predicted as `y_hat` (predicted data) and compare it to `Y_test` (ground truth data)."
      ]
    },
    {
      "cell_type": "code",
      "execution_count": 20,
      "id": "third-yield",
      "metadata": {
        "id": "third-yield"
      },
      "outputs": [],
      "source": [
        "from sklearn.ensemble import RandomForestRegressor"
      ]
    },
    {
      "cell_type": "code",
      "execution_count": 21,
      "id": "homeless-twelve",
      "metadata": {
        "id": "homeless-twelve"
      },
      "outputs": [],
      "source": [
        "# Modeling\n",
        "\n",
        "rf = RandomForestRegressor()\n",
        "rf_fitted = rf.fit(X_train, Y_train)\n",
        "y_hat = rf_fitted.predict(X_test)"
      ]
    },
    {
      "cell_type": "code",
      "execution_count": 22,
      "id": "temporal-strand",
      "metadata": {
        "colab": {
          "base_uri": "https://localhost:8080/",
          "height": 0
        },
        "id": "temporal-strand",
        "outputId": "375a8724-c4f2-4252-8db7-34fb11d48629"
      },
      "outputs": [
        {
          "output_type": "stream",
          "name": "stderr",
          "text": [
            "/usr/local/lib/python3.7/dist-packages/seaborn/_decorators.py:43: FutureWarning: Pass the following variables as keyword args: x, y. From version 0.12, the only valid positional argument will be `data`, and passing other arguments without an explicit keyword will result in an error or misinterpretation.\n",
            "  FutureWarning\n"
          ]
        },
        {
          "output_type": "display_data",
          "data": {
            "text/plain": [
              "<Figure size 1080x360 with 1 Axes>"
            ],
            "image/png": "[encoded data removed]"
          },
          "metadata": {
            "needs_background": "light"
          }
        }
      ],
      "source": [
        "# plotting the y_test vs y_pred\n",
        "\n",
        "plt.figure(figsize=(15, 5))\n",
        "sns.regplot(y_hat, Y_test)\n",
        "plt.xlabel('y_hat - predicted data')\n",
        "plt.ylabel('Y_test - ground truth data')\n",
        "plt.show()"
      ]
    },
    {
      "cell_type": "code",
      "execution_count": 23,
      "id": "2854d87d",
      "metadata": {
        "colab": {
          "base_uri": "https://localhost:8080/"
        },
        "id": "2854d87d",
        "outputId": "f45bb5aa-252f-4c95-a9e9-8c98a918dfc6"
      },
      "outputs": [
        {
          "output_type": "stream",
          "name": "stdout",
          "text": [
            "r2 score: 0.8029131626697319\n",
            "MSE: 14.40597516666665\n"
          ]
        }
      ],
      "source": [
        "print(f'r2 score: {r2_score(y_hat, Y_test)}')\n",
        "print(f'MSE: {MSE(y_hat, Y_test)}')"
      ]
    },
    {
      "cell_type": "markdown",
      "source": [
        "RandomForestRegressor has **better results** than LinearRegression does. "
      ],
      "metadata": {
        "id": "wbNbalFfLxEX"
      },
      "id": "wbNbalFfLxEX"
    },
    {
      "cell_type": "markdown",
      "id": "presidential-scotland",
      "metadata": {
        "id": "presidential-scotland"
      },
      "source": [
        "### TODO #10: 參數調整，並進行說明\n",
        "- 請嘗試使用 Grid search 來進行調參\n",
        "    - 可以自己寫 for-loop\n",
        "    - 或是使用 sklearn.model_selection 中的 GridSearchCV 函式"
      ]
    },
    {
      "cell_type": "code",
      "execution_count": 24,
      "id": "scheduled-wellington",
      "metadata": {
        "id": "scheduled-wellington"
      },
      "outputs": [],
      "source": [
        "from sklearn.model_selection import GridSearchCV"
      ]
    },
    {
      "cell_type": "markdown",
      "id": "62b168c3",
      "metadata": {
        "id": "62b168c3"
      },
      "source": [
        "Linear regression"
      ]
    },
    {
      "cell_type": "code",
      "execution_count": 25,
      "id": "apart-thesaurus",
      "metadata": {
        "colab": {
          "base_uri": "https://localhost:8080/"
        },
        "id": "apart-thesaurus",
        "outputId": "c1c5eb04-5068-40ce-e3fc-0d6ff121c83f"
      },
      "outputs": [
        {
          "output_type": "stream",
          "name": "stdout",
          "text": [
            "Fitting 5 folds for each of 8 candidates, totalling 40 fits\n",
            "\n",
            "Best Score:  0.6466854341846167\n",
            "Best Params:  {'fit_intercept': True, 'normalize': True, 'positive': False}\n"
          ]
        },
        {
          "output_type": "stream",
          "name": "stderr",
          "text": [
            "/usr/local/lib/python3.7/dist-packages/sklearn/linear_model/_base.py:145: FutureWarning: 'normalize' was deprecated in version 1.0 and will be removed in 1.2.\n",
            "If you wish to scale the data, use Pipeline with a StandardScaler in a preprocessing stage. To reproduce the previous behavior:\n",
            "\n",
            "from sklearn.pipeline import make_pipeline\n",
            "\n",
            "model = make_pipeline(StandardScaler(with_mean=False), LinearRegression())\n",
            "\n",
            "If you wish to pass a sample_weight parameter, you need to pass it as a fit parameter to each step of the pipeline as follows:\n",
            "\n",
            "kwargs = {s[0] + '__sample_weight': sample_weight for s in model.steps}\n",
            "model.fit(X, y, **kwargs)\n",
            "\n",
            "\n",
            "  FutureWarning,\n"
          ]
        }
      ],
      "source": [
        "lr = LinearRegression()\n",
        "\n",
        "using = [True, False]\n",
        "param_grid = dict(fit_intercept=using, \n",
        "                  normalize=using, \n",
        "                  positive=using)\n",
        "\n",
        "grid = GridSearchCV(estimator=lr, \n",
        "                    param_grid=param_grid, \n",
        "                    scoring='r2', \n",
        "                    verbose=1, \n",
        "                    n_jobs=-1)\n",
        "\n",
        "grid_result = grid.fit(X_train, Y_train)\n",
        "\n",
        "print()\n",
        "print('Best Score: ', grid_result.best_score_)\n",
        "print('Best Params: ', grid_result.best_params_)"
      ]
    },
    {
      "cell_type": "markdown",
      "id": "cf8d6539",
      "metadata": {
        "id": "cf8d6539"
      },
      "source": [
        "Random forest regressor"
      ]
    },
    {
      "cell_type": "code",
      "execution_count": 26,
      "id": "9596d5ac",
      "metadata": {
        "colab": {
          "base_uri": "https://localhost:8080/"
        },
        "id": "9596d5ac",
        "outputId": "6532d900-e756-4829-a2eb-1bc5791092f1"
      },
      "outputs": [
        {
          "output_type": "stream",
          "name": "stdout",
          "text": [
            "Fitting 5 folds for each of 24 candidates, totalling 120 fits\n",
            "Best Score:  0.8030588393500085\n",
            "Best Params:  {'max_depth': 8, 'min_samples_split': 4, 'n_estimators': 60}\n"
          ]
        }
      ],
      "source": [
        "rf = RandomForestRegressor(criterion='squared_error',\n",
        "                           max_features='auto', \n",
        "                           min_samples_leaf=1)\n",
        "\n",
        "param_grid = dict(n_estimators=[55, 60, 65], \n",
        "                  max_depth=[6, 7, 8, 9], \n",
        "                  min_samples_split=[3, 4])\n",
        "\n",
        "grid = GridSearchCV(estimator=rf, \n",
        "                    param_grid=param_grid, \n",
        "                    scoring='r2', \n",
        "                    verbose=1, \n",
        "                    n_jobs=-1)\n",
        "\n",
        "grid_result = grid.fit(X_train, Y_train)\n",
        "\n",
        "print('Best Score: ', grid_result.best_score_)\n",
        "print('Best Params: ', grid_result.best_params_)"
      ]
    },
    {
      "cell_type": "markdown",
      "id": "regulation-holly",
      "metadata": {
        "id": "regulation-holly"
      },
      "source": [
        "### TODO #11: 訓練 其他的 regression 模型，與上述兩種模型比較並說明訓練結果\n",
        "- 將資料 fit 在其他的迴歸模型，可選擇 SVR、XGBRegressor 或其他...\n",
        "- 利用 TODO #10 的工具來進行參數調整\n",
        "- 將結果繪製成散佈圖 (scatter plot)，其中 X軸 為 Y_pred、Y軸為 Y_true"
      ]
    },
    {
      "cell_type": "code",
      "execution_count": 27,
      "id": "dominant-ideal",
      "metadata": {
        "id": "dominant-ideal"
      },
      "outputs": [],
      "source": [
        "import tensorflow as tf\n",
        "from keras import layers, Sequential\n",
        "from keras import optimizers"
      ]
    },
    {
      "cell_type": "code",
      "execution_count": 28,
      "id": "assigned-carry",
      "metadata": {
        "id": "assigned-carry"
      },
      "outputs": [],
      "source": [
        "def build_model():\n",
        "    model = Sequential([\n",
        "        layers.Dense(50, activation='relu', input_shape=[X_train.shape[1]]),\n",
        "        layers.Dense(70, activation='relu'),\n",
        "        layers.Dense(50, activation='relu'),\n",
        "        layers.Dense(30, activation='relu'),\n",
        "        layers.Dense(1, activation='linear')])\n",
        "\n",
        "    optimizer = tf.keras.optimizers.Adam(learning_rate=1e-3)\n",
        "\n",
        "    model.compile(loss='mse', optimizer=optimizer, metrics=['mae', 'mse'])\n",
        "    return model"
      ]
    },
    {
      "cell_type": "code",
      "execution_count": 29,
      "id": "weird-humanity",
      "metadata": {
        "colab": {
          "base_uri": "https://localhost:8080/"
        },
        "id": "weird-humanity",
        "outputId": "0249a85a-0040-4bc8-ce68-97d8cf68338d"
      },
      "outputs": [
        {
          "output_type": "stream",
          "name": "stdout",
          "text": [
            "r2 score: 0.6555672407326082\n",
            "MSE: 26.48368821678719\n"
          ]
        }
      ],
      "source": [
        "EPOCHS = 300\n",
        "\n",
        "model = build_model()\n",
        "\n",
        "history = model.fit(\n",
        "    X_train, \n",
        "    Y_train, \n",
        "    validation_data=(X_test, Y_test), \n",
        "    epochs=EPOCHS, \n",
        "    verbose=0, \n",
        "    batch_size=30)\n",
        "\n",
        "y_hat = model.predict(X_test)\n",
        "\n",
        "print(f'r2 score: {r2_score(y_hat, Y_test)}')\n",
        "print(f'MSE: {MSE(y_hat, Y_test)}')"
      ]
    },
    {
      "cell_type": "markdown",
      "id": "continuous-vampire",
      "metadata": {
        "id": "continuous-vampire"
      },
      "source": [
        "### (Bonus) TODO #12: 超越助教的分數，並且說明如何做到\n",
        "- R2:  0.8831229012211493\n",
        "- Test loss (MSE):  9.150760226336033"
      ]
    },
    {
      "cell_type": "markdown",
      "id": "c93ea916",
      "metadata": {
        "id": "c93ea916"
      },
      "source": [
        "But then, I discovered there is another way to choose features, by intepret coefficients in linear regression. \n",
        "\n",
        "Step of feature selection:\n",
        "1. use all of the features as linear regression model input\n",
        "2. fit the data\n",
        "3. calculate the coefficients of each feature\n",
        "4. then choose only those features that have better coefficient values"
      ]
    },
    {
      "cell_type": "code",
      "execution_count": 30,
      "id": "ffdbb219",
      "metadata": {
        "colab": {
          "base_uri": "https://localhost:8080/",
          "height": 143
        },
        "id": "ffdbb219",
        "outputId": "e2d16c9d-ea8c-4758-ec65-9990dcf7629b"
      },
      "outputs": [
        {
          "output_type": "execute_result",
          "data": {
            "text/plain": [
              "      CRIM    ZN  INDUS  CHAS    NOX     RM   AGE     DIS  RAD    TAX  \\\n",
              "0  0.00632  18.0   2.31   0.0  0.538  6.575  65.2  4.0900  1.0  296.0   \n",
              "1  0.02731   0.0   7.07   0.0  0.469  6.421  78.9  4.9671  2.0  242.0   \n",
              "2  0.02729   0.0   7.07   0.0  0.469  7.185  61.1  4.9671  2.0  242.0   \n",
              "\n",
              "   PTRATIO       B  LSTAT  \n",
              "0     15.3  396.90   4.98  \n",
              "1     17.8  396.90   9.14  \n",
              "2     17.8  392.83   4.03  "
            ],
            "text/html": [
              "\n",
              "  <div id=\"df-76be5a0e-e23d-48ee-89e7-6e7f337c60aa\">\n",
              "    <div class=\"colab-df-container\">\n",
              "      <div>\n",
              "<style scoped>\n",
              "    .dataframe tbody tr th:only-of-type {\n",
              "        vertical-align: middle;\n",
              "    }\n",
              "\n",
              "    .dataframe tbody tr th {\n",
              "        vertical-align: top;\n",
              "    }\n",
              "\n",
              "    .dataframe thead th {\n",
              "        text-align: right;\n",
              "    }\n",
              "</style>\n",
              "<table border=\"1\" class=\"dataframe\">\n",
              "  <thead>\n",
              "    <tr style=\"text-align: right;\">\n",
              "      <th></th>\n",
              "      <th>CRIM</th>\n",
              "      <th>ZN</th>\n",
              "      <th>INDUS</th>\n",
              "      <th>CHAS</th>\n",
              "      <th>NOX</th>\n",
              "      <th>RM</th>\n",
              "      <th>AGE</th>\n",
              "      <th>DIS</th>\n",
              "      <th>RAD</th>\n",
              "      <th>TAX</th>\n",
              "      <th>PTRATIO</th>\n",
              "      <th>B</th>\n",
              "      <th>LSTAT</th>\n",
              "    </tr>\n",
              "  </thead>\n",
              "  <tbody>\n",
              "    <tr>\n",
              "      <th>0</th>\n",
              "      <td>0.00632</td>\n",
              "      <td>18.0</td>\n",
              "      <td>2.31</td>\n",
              "      <td>0.0</td>\n",
              "      <td>0.538</td>\n",
              "      <td>6.575</td>\n",
              "      <td>65.2</td>\n",
              "      <td>4.0900</td>\n",
              "      <td>1.0</td>\n",
              "      <td>296.0</td>\n",
              "      <td>15.3</td>\n",
              "      <td>396.90</td>\n",
              "      <td>4.98</td>\n",
              "    </tr>\n",
              "    <tr>\n",
              "      <th>1</th>\n",
              "      <td>0.02731</td>\n",
              "      <td>0.0</td>\n",
              "      <td>7.07</td>\n",
              "      <td>0.0</td>\n",
              "      <td>0.469</td>\n",
              "      <td>6.421</td>\n",
              "      <td>78.9</td>\n",
              "      <td>4.9671</td>\n",
              "      <td>2.0</td>\n",
              "      <td>242.0</td>\n",
              "      <td>17.8</td>\n",
              "      <td>396.90</td>\n",
              "      <td>9.14</td>\n",
              "    </tr>\n",
              "    <tr>\n",
              "      <th>2</th>\n",
              "      <td>0.02729</td>\n",
              "      <td>0.0</td>\n",
              "      <td>7.07</td>\n",
              "      <td>0.0</td>\n",
              "      <td>0.469</td>\n",
              "      <td>7.185</td>\n",
              "      <td>61.1</td>\n",
              "      <td>4.9671</td>\n",
              "      <td>2.0</td>\n",
              "      <td>242.0</td>\n",
              "      <td>17.8</td>\n",
              "      <td>392.83</td>\n",
              "      <td>4.03</td>\n",
              "    </tr>\n",
              "  </tbody>\n",
              "</table>\n",
              "</div>\n",
              "      <button class=\"colab-df-convert\" onclick=\"convertToInteractive('df-76be5a0e-e23d-48ee-89e7-6e7f337c60aa')\"\n",
              "              title=\"Convert this dataframe to an interactive table.\"\n",
              "              style=\"display:none;\">\n",
              "        \n",
              "  <svg xmlns=\"http://www.w3.org/2000/svg\" height=\"24px\"viewBox=\"0 0 24 24\"\n",
              "       width=\"24px\">\n",
              "    <path d=\"M0 0h24v24H0V0z\" fill=\"none\"/>\n",
              "    <path d=\"M18.56 5.44l.94 2.06.94-2.06 2.06-.94-2.06-.94-.94-2.06-.94 2.06-2.06.94zm-11 1L8.5 8.5l.94-2.06 2.06-.94-2.06-.94L8.5 2.5l-.94 2.06-2.06.94zm10 10l.94 2.06.94-2.06 2.06-.94-2.06-.94-.94-2.06-.94 2.06-2.06.94z\"/><path d=\"M17.41 7.96l-1.37-1.37c-.4-.4-.92-.59-1.43-.59-.52 0-1.04.2-1.43.59L10.3 9.45l-7.72 7.72c-.78.78-.78 2.05 0 2.83L4 21.41c.39.39.9.59 1.41.59.51 0 1.02-.2 1.41-.59l7.78-7.78 2.81-2.81c.8-.78.8-2.07 0-2.86zM5.41 20L4 18.59l7.72-7.72 1.47 1.35L5.41 20z\"/>\n",
              "  </svg>\n",
              "      </button>\n",
              "      \n",
              "  <style>\n",
              "    .colab-df-container {\n",
              "      display:flex;\n",
              "      flex-wrap:wrap;\n",
              "      gap: 12px;\n",
              "    }\n",
              "\n",
              "    .colab-df-convert {\n",
              "      background-color: #E8F0FE;\n",
              "      border: none;\n",
              "      border-radius: 50%;\n",
              "      cursor: pointer;\n",
              "      display: none;\n",
              "      fill: #1967D2;\n",
              "      height: 32px;\n",
              "      padding: 0 0 0 0;\n",
              "      width: 32px;\n",
              "    }\n",
              "\n",
              "    .colab-df-convert:hover {\n",
              "      background-color: #E2EBFA;\n",
              "      box-shadow: 0px 1px 2px rgba(60, 64, 67, 0.3), 0px 1px 3px 1px rgba(60, 64, 67, 0.15);\n",
              "      fill: #174EA6;\n",
              "    }\n",
              "\n",
              "    [theme=dark] .colab-df-convert {\n",
              "      background-color: #3B4455;\n",
              "      fill: #D2E3FC;\n",
              "    }\n",
              "\n",
              "    [theme=dark] .colab-df-convert:hover {\n",
              "      background-color: #434B5C;\n",
              "      box-shadow: 0px 1px 3px 1px rgba(0, 0, 0, 0.15);\n",
              "      filter: drop-shadow(0px 1px 2px rgba(0, 0, 0, 0.3));\n",
              "      fill: #FFFFFF;\n",
              "    }\n",
              "  </style>\n",
              "\n",
              "      <script>\n",
              "        const buttonEl =\n",
              "          document.querySelector('#df-76be5a0e-e23d-48ee-89e7-6e7f337c60aa button.colab-df-convert');\n",
              "        buttonEl.style.display =\n",
              "          google.colab.kernel.accessAllowed ? 'block' : 'none';\n",
              "\n",
              "        async function convertToInteractive(key) {\n",
              "          const element = document.querySelector('#df-76be5a0e-e23d-48ee-89e7-6e7f337c60aa');\n",
              "          const dataTable =\n",
              "            await google.colab.kernel.invokeFunction('convertToInteractive',\n",
              "                                                     [key], {});\n",
              "          if (!dataTable) return;\n",
              "\n",
              "          const docLinkHtml = 'Like what you see? Visit the ' +\n",
              "            '<a target=\"_blank\" href=https://colab.research.google.com/notebooks/data_table.ipynb>data table notebook</a>'\n",
              "            + ' to learn more about interactive tables.';\n",
              "          element.innerHTML = '';\n",
              "          dataTable['output_type'] = 'display_data';\n",
              "          await google.colab.output.renderOutput(dataTable, element);\n",
              "          const docLink = document.createElement('div');\n",
              "          docLink.innerHTML = docLinkHtml;\n",
              "          element.appendChild(docLink);\n",
              "        }\n",
              "      </script>\n",
              "    </div>\n",
              "  </div>\n",
              "  "
            ]
          },
          "metadata": {},
          "execution_count": 30
        }
      ],
      "source": [
        "columns = ['CRIM', 'ZN', 'INDUS', 'CHAS', 'NOX', 'RM', 'AGE', 'DIS', 'RAD', 'TAX', 'PTRATIO', 'B', 'LSTAT']\n",
        "assert len(columns) == len(df.columns) - 1\n",
        "\n",
        "X = pd.DataFrame(np.c_[df['CRIM'], df['ZN'], df['INDUS'], df['CHAS'], df['NOX'], df['RM'], df['AGE'], df['DIS'], df['RAD'], df['TAX'], df['PTRATIO'], df['B'], df['LSTAT']], # Please put features inside the bracket\n",
        "                 columns=columns) # Please put feature names here\n",
        "\n",
        "X.head(3)"
      ]
    },
    {
      "cell_type": "code",
      "execution_count": 31,
      "id": "3ebee293",
      "metadata": {
        "colab": {
          "base_uri": "https://localhost:8080/",
          "height": 593
        },
        "id": "3ebee293",
        "outputId": "3303c48c-863a-41b0-c255-600119517b7b"
      },
      "outputs": [
        {
          "output_type": "stream",
          "name": "stdout",
          "text": [
            "r2 score: 0.6423855295808725\n",
            "MSE: 23.112379900699374\n",
            "\n",
            "CRIM: -0.067413465531253\n",
            "ZN: 0.04424996403676924\n",
            "INDUS: 0.05837744554195858\n",
            "CHAS: 1.0834854136767258\n",
            "NOX: -16.382893644493052\n",
            "RM: 3.9487362905464845\n",
            "AGE: 8.922773057569444e-05\n",
            "DIS: -1.4148642735951662\n",
            "RAD: 0.2929995723714625\n",
            "TAX: -0.014211751567315675\n",
            "PTRATIO: -1.0165627026820467\n",
            "B: 0.011034738588915002\n",
            "LSTAT: -0.5029549096189777\n",
            "\n"
          ]
        },
        {
          "output_type": "display_data",
          "data": {
            "text/plain": [
              "<Figure size 432x288 with 1 Axes>"
            ],
            "image/png": "[encoded data removed]"
          },
          "metadata": {
            "needs_background": "light"
          }
        }
      ],
      "source": [
        "from sklearn.model_selection import train_test_split\n",
        "from sklearn.linear_model import LinearRegression\n",
        "\n",
        "X_train, X_test, Y_train, Y_test = train_test_split(\n",
        "    X, \n",
        "    df['MEDV'], \n",
        "    train_size=0.8, \n",
        "    random_state=52)\n",
        "\n",
        "lr = LinearRegression()\n",
        "lr_fitted = lr.fit(X_train, Y_train)\n",
        "y_hat = lr_fitted.predict(X_test)\n",
        "\n",
        "print(f'r2 score: {r2_score(y_hat, Y_test)}')\n",
        "print(f'MSE: {MSE(y_hat, Y_test)}')\n",
        "print()\n",
        "\n",
        "importance = lr_fitted.coef_\n",
        "\n",
        "for feature, score in zip(columns, importance):\n",
        "    print(f'{feature}: {score}')\n",
        "\n",
        "print()\n",
        "plt.bar(columns, importance)\n",
        "plt.xticks(rotation=80)\n",
        "plt.show()"
      ]
    },
    {
      "cell_type": "markdown",
      "source": [
        "Linear regression 的可解釋性（interpretability）較高，每個feature得coefficient係數代表該feature一個單位變化在target上會產生的效應。"
      ],
      "metadata": {
        "id": "sctrOzLLFOEO"
      },
      "id": "sctrOzLLFOEO"
    },
    {
      "cell_type": "markdown",
      "id": "61bb4ec0",
      "metadata": {
        "id": "61bb4ec0"
      },
      "source": [
        "Make call of final selection: "
      ]
    },
    {
      "cell_type": "code",
      "execution_count": 32,
      "id": "3adfbfd4",
      "metadata": {
        "colab": {
          "base_uri": "https://localhost:8080/",
          "height": 143
        },
        "id": "3adfbfd4",
        "outputId": "e15c0961-1316-4665-a380-1122e97109a3"
      },
      "outputs": [
        {
          "output_type": "execute_result",
          "data": {
            "text/plain": [
              "      CRIM  CHAS    NOX     RM     DIS  RAD  PTRATIO  LSTAT\n",
              "0  0.00632   0.0  0.538  6.575  4.0900  1.0     15.3   4.98\n",
              "1  0.02731   0.0  0.469  6.421  4.9671  2.0     17.8   9.14\n",
              "2  0.02729   0.0  0.469  7.185  4.9671  2.0     17.8   4.03"
            ],
            "text/html": [
              "\n",
              "  <div id=\"df-91ba816b-7bf9-4df2-8b6c-1be46a000694\">\n",
              "    <div class=\"colab-df-container\">\n",
              "      <div>\n",
              "<style scoped>\n",
              "    .dataframe tbody tr th:only-of-type {\n",
              "        vertical-align: middle;\n",
              "    }\n",
              "\n",
              "    .dataframe tbody tr th {\n",
              "        vertical-align: top;\n",
              "    }\n",
              "\n",
              "    .dataframe thead th {\n",
              "        text-align: right;\n",
              "    }\n",
              "</style>\n",
              "<table border=\"1\" class=\"dataframe\">\n",
              "  <thead>\n",
              "    <tr style=\"text-align: right;\">\n",
              "      <th></th>\n",
              "      <th>CRIM</th>\n",
              "      <th>CHAS</th>\n",
              "      <th>NOX</th>\n",
              "      <th>RM</th>\n",
              "      <th>DIS</th>\n",
              "      <th>RAD</th>\n",
              "      <th>PTRATIO</th>\n",
              "      <th>LSTAT</th>\n",
              "    </tr>\n",
              "  </thead>\n",
              "  <tbody>\n",
              "    <tr>\n",
              "      <th>0</th>\n",
              "      <td>0.00632</td>\n",
              "      <td>0.0</td>\n",
              "      <td>0.538</td>\n",
              "      <td>6.575</td>\n",
              "      <td>4.0900</td>\n",
              "      <td>1.0</td>\n",
              "      <td>15.3</td>\n",
              "      <td>4.98</td>\n",
              "    </tr>\n",
              "    <tr>\n",
              "      <th>1</th>\n",
              "      <td>0.02731</td>\n",
              "      <td>0.0</td>\n",
              "      <td>0.469</td>\n",
              "      <td>6.421</td>\n",
              "      <td>4.9671</td>\n",
              "      <td>2.0</td>\n",
              "      <td>17.8</td>\n",
              "      <td>9.14</td>\n",
              "    </tr>\n",
              "    <tr>\n",
              "      <th>2</th>\n",
              "      <td>0.02729</td>\n",
              "      <td>0.0</td>\n",
              "      <td>0.469</td>\n",
              "      <td>7.185</td>\n",
              "      <td>4.9671</td>\n",
              "      <td>2.0</td>\n",
              "      <td>17.8</td>\n",
              "      <td>4.03</td>\n",
              "    </tr>\n",
              "  </tbody>\n",
              "</table>\n",
              "</div>\n",
              "      <button class=\"colab-df-convert\" onclick=\"convertToInteractive('df-91ba816b-7bf9-4df2-8b6c-1be46a000694')\"\n",
              "              title=\"Convert this dataframe to an interactive table.\"\n",
              "              style=\"display:none;\">\n",
              "        \n",
              "  <svg xmlns=\"http://www.w3.org/2000/svg\" height=\"24px\"viewBox=\"0 0 24 24\"\n",
              "       width=\"24px\">\n",
              "    <path d=\"M0 0h24v24H0V0z\" fill=\"none\"/>\n",
              "    <path d=\"M18.56 5.44l.94 2.06.94-2.06 2.06-.94-2.06-.94-.94-2.06-.94 2.06-2.06.94zm-11 1L8.5 8.5l.94-2.06 2.06-.94-2.06-.94L8.5 2.5l-.94 2.06-2.06.94zm10 10l.94 2.06.94-2.06 2.06-.94-2.06-.94-.94-2.06-.94 2.06-2.06.94z\"/><path d=\"M17.41 7.96l-1.37-1.37c-.4-.4-.92-.59-1.43-.59-.52 0-1.04.2-1.43.59L10.3 9.45l-7.72 7.72c-.78.78-.78 2.05 0 2.83L4 21.41c.39.39.9.59 1.41.59.51 0 1.02-.2 1.41-.59l7.78-7.78 2.81-2.81c.8-.78.8-2.07 0-2.86zM5.41 20L4 18.59l7.72-7.72 1.47 1.35L5.41 20z\"/>\n",
              "  </svg>\n",
              "      </button>\n",
              "      \n",
              "  <style>\n",
              "    .colab-df-container {\n",
              "      display:flex;\n",
              "      flex-wrap:wrap;\n",
              "      gap: 12px;\n",
              "    }\n",
              "\n",
              "    .colab-df-convert {\n",
              "      background-color: #E8F0FE;\n",
              "      border: none;\n",
              "      border-radius: 50%;\n",
              "      cursor: pointer;\n",
              "      display: none;\n",
              "      fill: #1967D2;\n",
              "      height: 32px;\n",
              "      padding: 0 0 0 0;\n",
              "      width: 32px;\n",
              "    }\n",
              "\n",
              "    .colab-df-convert:hover {\n",
              "      background-color: #E2EBFA;\n",
              "      box-shadow: 0px 1px 2px rgba(60, 64, 67, 0.3), 0px 1px 3px 1px rgba(60, 64, 67, 0.15);\n",
              "      fill: #174EA6;\n",
              "    }\n",
              "\n",
              "    [theme=dark] .colab-df-convert {\n",
              "      background-color: #3B4455;\n",
              "      fill: #D2E3FC;\n",
              "    }\n",
              "\n",
              "    [theme=dark] .colab-df-convert:hover {\n",
              "      background-color: #434B5C;\n",
              "      box-shadow: 0px 1px 3px 1px rgba(0, 0, 0, 0.15);\n",
              "      filter: drop-shadow(0px 1px 2px rgba(0, 0, 0, 0.3));\n",
              "      fill: #FFFFFF;\n",
              "    }\n",
              "  </style>\n",
              "\n",
              "      <script>\n",
              "        const buttonEl =\n",
              "          document.querySelector('#df-91ba816b-7bf9-4df2-8b6c-1be46a000694 button.colab-df-convert');\n",
              "        buttonEl.style.display =\n",
              "          google.colab.kernel.accessAllowed ? 'block' : 'none';\n",
              "\n",
              "        async function convertToInteractive(key) {\n",
              "          const element = document.querySelector('#df-91ba816b-7bf9-4df2-8b6c-1be46a000694');\n",
              "          const dataTable =\n",
              "            await google.colab.kernel.invokeFunction('convertToInteractive',\n",
              "                                                     [key], {});\n",
              "          if (!dataTable) return;\n",
              "\n",
              "          const docLinkHtml = 'Like what you see? Visit the ' +\n",
              "            '<a target=\"_blank\" href=https://colab.research.google.com/notebooks/data_table.ipynb>data table notebook</a>'\n",
              "            + ' to learn more about interactive tables.';\n",
              "          element.innerHTML = '';\n",
              "          dataTable['output_type'] = 'display_data';\n",
              "          await google.colab.output.renderOutput(dataTable, element);\n",
              "          const docLink = document.createElement('div');\n",
              "          docLink.innerHTML = docLinkHtml;\n",
              "          element.appendChild(docLink);\n",
              "        }\n",
              "      </script>\n",
              "    </div>\n",
              "  </div>\n",
              "  "
            ]
          },
          "metadata": {},
          "execution_count": 32
        }
      ],
      "source": [
        "columns = ['CRIM', 'CHAS', 'NOX', 'RM', 'DIS', 'RAD', 'PTRATIO', 'LSTAT']\n",
        "\n",
        "X = pd.DataFrame(np.c_[df['CRIM'], df['CHAS'], df['NOX'], df['RM'], df['DIS'], df['RAD'], df['PTRATIO'], df['LSTAT']], # Please put features inside the bracket\n",
        "                 columns=columns) # Please put feature names here\n",
        "\n",
        "X.head(3)"
      ]
    },
    {
      "cell_type": "markdown",
      "source": [
        "split into training data and test data"
      ],
      "metadata": {
        "id": "2CXkCywlJorJ"
      },
      "id": "2CXkCywlJorJ"
    },
    {
      "cell_type": "code",
      "source": [
        "X_train, X_test, Y_train, Y_test = train_test_split(\n",
        "    X, # features\n",
        "    df['MEDV'], # target\n",
        "    train_size=0.8, # 80% for training and 20% for test\n",
        "    random_state=52)\n",
        "\n",
        "print(X_train.shape)\n",
        "print(X_test.shape)\n",
        "print(Y_train.shape)\n",
        "print(Y_test.shape)"
      ],
      "metadata": {
        "colab": {
          "base_uri": "https://localhost:8080/"
        },
        "id": "d4hX-eLc6C73",
        "outputId": "8936ed3c-6fe4-42b2-f079-c69372904f75"
      },
      "id": "d4hX-eLc6C73",
      "execution_count": 33,
      "outputs": [
        {
          "output_type": "stream",
          "name": "stdout",
          "text": [
            "(404, 8)\n",
            "(102, 8)\n",
            "(404,)\n",
            "(102,)\n"
          ]
        }
      ]
    },
    {
      "cell_type": "markdown",
      "source": [
        "try **DNN** model first: "
      ],
      "metadata": {
        "id": "kcpJ1gzvJwHS"
      },
      "id": "kcpJ1gzvJwHS"
    },
    {
      "cell_type": "code",
      "source": [
        "EPOCHS = 300\n",
        "\n",
        "model = build_model()\n",
        "\n",
        "history = model.fit(\n",
        "    X_train, \n",
        "    Y_train, \n",
        "    validation_data=(X_test, Y_test), \n",
        "    epochs=EPOCHS, \n",
        "    verbose=0, \n",
        "    batch_size=10)\n",
        "\n",
        "y_hat = model.predict(X_test)\n",
        "\n",
        "print(f'r2 score: {r2_score(y_hat, Y_test)}')\n",
        "print(f'MSE: {MSE(y_hat, Y_test)}')"
      ],
      "metadata": {
        "colab": {
          "base_uri": "https://localhost:8080/"
        },
        "id": "ZT5R0jpj6C9-",
        "outputId": "b5635c95-9320-45cb-ec66-ba5c63b09dd6"
      },
      "id": "ZT5R0jpj6C9-",
      "execution_count": 34,
      "outputs": [
        {
          "output_type": "stream",
          "name": "stdout",
          "text": [
            "r2 score: 0.8968408168324542\n",
            "MSE: 9.15328591577773\n"
          ]
        }
      ]
    },
    {
      "cell_type": "markdown",
      "source": [
        "**higher r2 score**. "
      ],
      "metadata": {
        "id": "eTGxr3cGTeMc"
      },
      "id": "eTGxr3cGTeMc"
    },
    {
      "cell_type": "markdown",
      "source": [
        "try **Random forest regressor** by using best parameters from gridsearchCV. "
      ],
      "metadata": {
        "id": "3TotCVY4KKV8"
      },
      "id": "3TotCVY4KKV8"
    },
    {
      "cell_type": "code",
      "source": [
        "rf = RandomForestRegressor(criterion='squared_error',\n",
        "                           max_features='auto', \n",
        "                           min_samples_leaf=1, \n",
        "                           n_estimators=60, \n",
        "                           min_samples_split=4, \n",
        "                           max_depth=8)\n",
        "\n",
        "rf_fitted = rf.fit(X_train, Y_train)\n",
        "y_hat = rf_fitted.predict(X_test)\n",
        "\n",
        "print(f'r2 score: {r2_score(y_hat, Y_test)}')\n",
        "print(f'MSE: {MSE(y_hat, Y_test)}')"
      ],
      "metadata": {
        "colab": {
          "base_uri": "https://localhost:8080/"
        },
        "id": "_kCrzxHfDUS_",
        "outputId": "99fa3373-32ee-4d9a-cb2a-5810e3d79fd3"
      },
      "id": "_kCrzxHfDUS_",
      "execution_count": 35,
      "outputs": [
        {
          "output_type": "stream",
          "name": "stdout",
          "text": [
            "r2 score: 0.8938068588274276\n",
            "MSE: 8.879369728515726\n"
          ]
        }
      ]
    },
    {
      "cell_type": "markdown",
      "source": [
        "**lower MSE score**. "
      ],
      "metadata": {
        "id": "7FUn6yajTZ0U"
      },
      "id": "7FUn6yajTZ0U"
    },
    {
      "cell_type": "code",
      "execution_count": 36,
      "id": "legendary-integration",
      "metadata": {
        "colab": {
          "base_uri": "https://localhost:8080/"
        },
        "id": "legendary-integration",
        "outputId": "b98dac58-c107-4f3f-ba50-5197c1421381"
      },
      "outputs": [
        {
          "output_type": "stream",
          "name": "stdout",
          "text": [
            "total execution time: 97.41699647903442\n"
          ]
        }
      ],
      "source": [
        "# 請勿更動此區塊程式碼\n",
        "\n",
        "EXECUTION_END_TIME = time.time() # 計算執行時間\n",
        "print('total execution time: {}'.format(EXECUTION_END_TIME - EXECUTION_START_TIME))"
      ]
    },
    {
      "cell_type": "code",
      "source": [
        ""
      ],
      "metadata": {
        "id": "R-2qHybpDk8s"
      },
      "id": "R-2qHybpDk8s",
      "execution_count": 36,
      "outputs": []
    }
  ],
  "metadata": {
    "kernelspec": {
      "display_name": "Python 3 (ipykernel)",
      "language": "python",
      "name": "python3"
    },
    "language_info": {
      "codemirror_mode": {
        "name": "ipython",
        "version": 3
      },
      "file_extension": ".py",
      "mimetype": "text/x-python",
      "name": "python",
      "nbconvert_exporter": "python",
      "pygments_lexer": "ipython3",
      "version": "3.9.7"
    },
    "colab": {
      "name": "main.ipynb",
      "provenance": [],
      "collapsed_sections": [
        "alleged-ontario",
        "seasonal-honor",
        "progressive-perth"
      ],
      "toc_visible": true
    }
  },
  "nbformat": 4,
  "nbformat_minor": 5
}