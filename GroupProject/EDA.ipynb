{
 "cells": [
  {
   "cell_type": "code",
   "execution_count": 1,
   "id": "184163f6",
   "metadata": {},
   "outputs": [],
   "source": [
    "import pandas as pd\n",
    "import numpy as np\n",
    "import matplotlib.pyplot as plt\n",
    "import seaborn as sns\n",
    "import plotly.express as px\n",
    "import os"
   ]
  },
  {
   "cell_type": "code",
   "execution_count": 2,
   "id": "191a4b38",
   "metadata": {},
   "outputs": [
    {
     "data": {
      "text/plain": [
       "['test.csv',\n",
       " 'train.csv',\n",
       " 'transactions.csv',\n",
       " 'oil.csv',\n",
       " 'holidays_events.csv',\n",
       " 'sample_submission.csv',\n",
       " 'stores.csv']"
      ]
     },
     "execution_count": 2,
     "metadata": {},
     "output_type": "execute_result"
    }
   ],
   "source": [
    "path = 'Data/'\n",
    "\n",
    "os.listdir(path)"
   ]
  },
  {
   "cell_type": "markdown",
   "id": "f229feb6",
   "metadata": {},
   "source": [
    "[from kaggle](https://www.kaggle.com/competitions/store-sales-time-series-forecasting/data?select=stores.csv)"
   ]
  },
  {
   "cell_type": "markdown",
   "id": "4c6847f5",
   "metadata": {},
   "source": [
    "# train.csv"
   ]
  },
  {
   "cell_type": "code",
   "execution_count": 3,
   "id": "c3e9f75b",
   "metadata": {},
   "outputs": [
    {
     "name": "stdout",
     "output_type": "stream",
     "text": [
      "(3000888, 7)\n"
     ]
    },
    {
     "data": {
      "text/html": [
       "<div>\n",
       "<style scoped>\n",
       "    .dataframe tbody tr th:only-of-type {\n",
       "        vertical-align: middle;\n",
       "    }\n",
       "\n",
       "    .dataframe tbody tr th {\n",
       "        vertical-align: top;\n",
       "    }\n",
       "\n",
       "    .dataframe thead th {\n",
       "        text-align: right;\n",
       "    }\n",
       "</style>\n",
       "<table border=\"1\" class=\"dataframe\">\n",
       "  <thead>\n",
       "    <tr style=\"text-align: right;\">\n",
       "      <th></th>\n",
       "      <th>id</th>\n",
       "      <th>date</th>\n",
       "      <th>store_nbr</th>\n",
       "      <th>family</th>\n",
       "      <th>sales</th>\n",
       "      <th>onpromotion</th>\n",
       "      <th>year</th>\n",
       "    </tr>\n",
       "  </thead>\n",
       "  <tbody>\n",
       "    <tr>\n",
       "      <th>0</th>\n",
       "      <td>0</td>\n",
       "      <td>2013-01-01</td>\n",
       "      <td>1</td>\n",
       "      <td>AUTOMOTIVE</td>\n",
       "      <td>0.0</td>\n",
       "      <td>0</td>\n",
       "      <td>2013</td>\n",
       "    </tr>\n",
       "    <tr>\n",
       "      <th>1</th>\n",
       "      <td>1</td>\n",
       "      <td>2013-01-01</td>\n",
       "      <td>1</td>\n",
       "      <td>BABY CARE</td>\n",
       "      <td>0.0</td>\n",
       "      <td>0</td>\n",
       "      <td>2013</td>\n",
       "    </tr>\n",
       "    <tr>\n",
       "      <th>2</th>\n",
       "      <td>2</td>\n",
       "      <td>2013-01-01</td>\n",
       "      <td>1</td>\n",
       "      <td>BEAUTY</td>\n",
       "      <td>0.0</td>\n",
       "      <td>0</td>\n",
       "      <td>2013</td>\n",
       "    </tr>\n",
       "    <tr>\n",
       "      <th>3</th>\n",
       "      <td>3</td>\n",
       "      <td>2013-01-01</td>\n",
       "      <td>1</td>\n",
       "      <td>BEVERAGES</td>\n",
       "      <td>0.0</td>\n",
       "      <td>0</td>\n",
       "      <td>2013</td>\n",
       "    </tr>\n",
       "    <tr>\n",
       "      <th>4</th>\n",
       "      <td>4</td>\n",
       "      <td>2013-01-01</td>\n",
       "      <td>1</td>\n",
       "      <td>BOOKS</td>\n",
       "      <td>0.0</td>\n",
       "      <td>0</td>\n",
       "      <td>2013</td>\n",
       "    </tr>\n",
       "  </tbody>\n",
       "</table>\n",
       "</div>"
      ],
      "text/plain": [
       "   id       date  store_nbr      family  sales  onpromotion  year\n",
       "0   0 2013-01-01          1  AUTOMOTIVE    0.0            0  2013\n",
       "1   1 2013-01-01          1   BABY CARE    0.0            0  2013\n",
       "2   2 2013-01-01          1      BEAUTY    0.0            0  2013\n",
       "3   3 2013-01-01          1   BEVERAGES    0.0            0  2013\n",
       "4   4 2013-01-01          1       BOOKS    0.0            0  2013"
      ]
     },
     "execution_count": 3,
     "metadata": {},
     "output_type": "execute_result"
    }
   ],
   "source": [
    "train = pd.read_csv(path + 'train.csv')\n",
    "train['date'] = pd.to_datetime(train['date'], format=\"%Y-%m-%d\")\n",
    "train['year'] = train.date.dt.year\n",
    "print(train.shape)\n",
    "train.head()"
   ]
  },
  {
   "cell_type": "code",
   "execution_count": 4,
   "id": "fd71d5f0",
   "metadata": {},
   "outputs": [
    {
     "data": {
      "text/plain": [
       "id             0\n",
       "date           0\n",
       "store_nbr      0\n",
       "family         0\n",
       "sales          0\n",
       "onpromotion    0\n",
       "year           0\n",
       "dtype: int64"
      ]
     },
     "execution_count": 4,
     "metadata": {},
     "output_type": "execute_result"
    }
   ],
   "source": [
    "train.isna().sum()"
   ]
  },
  {
   "cell_type": "code",
   "execution_count": 12,
   "id": "2fdba6eb",
   "metadata": {},
   "outputs": [
    {
     "data": {
      "image/png": "[encoded data removed]",
      "text/plain": [
       "<Figure size 432x288 with 1 Axes>"
      ]
     },
     "metadata": {
      "needs_background": "light"
     },
     "output_type": "display_data"
    }
   ],
   "source": [
    "plt.xticks(rotation=80)\n",
    "train.groupby(['year', 'store_nbr']).sales.sum().plot(kind='bar')\n",
    "plt.xticks(rotation=80)\n",
    "plt.show()"
   ]
  },
  {
   "cell_type": "code",
   "execution_count": null,
   "id": "4f1a4e2c",
   "metadata": {},
   "outputs": [],
   "source": [
    "print(f'{len(train.family.unique())} family types')"
   ]
  },
  {
   "cell_type": "code",
   "execution_count": null,
   "id": "6a183976",
   "metadata": {},
   "outputs": [],
   "source": [
    "# 不同店，一直以來的銷售總額\n",
    "\n",
    "plt.figure(figsize=(12, 5))\n",
    "train.groupby(['store_nbr'])['sales'].sum().plot(kind='bar')\n",
    "plt.xticks(rotation=0)\n",
    "plt.ylabel('avg sales')\n",
    "plt.show()"
   ]
  },
  {
   "cell_type": "code",
   "execution_count": null,
   "id": "a5b0609b",
   "metadata": {},
   "outputs": [],
   "source": [
    "# 不同店，在不同年份中的銷售總額\n",
    "\n",
    "for store_num in range(1, 55):\n",
    "    d_ = train[train['store_nbr'] == store_num]\n",
    "    plt.figure(figsize=(12, 5))\n",
    "    d_.groupby(['year'])['sales'].sum().plot(kind='bar')\n",
    "    plt.xticks(rotation=0)\n",
    "    plt.ylabel('total sales')\n",
    "    plt.xlabel(f'year in store {store_num}')\n",
    "    plt.show()\n",
    "    break"
   ]
  },
  {
   "cell_type": "code",
   "execution_count": null,
   "id": "231af38b",
   "metadata": {},
   "outputs": [],
   "source": [
    "for store_num in range(1, 55):\n",
    "    d_ = train[train['store_nbr'] == store_num]\n",
    "    plt.figure(figsize=(12, 5))\n",
    "    d_.groupby(['family'])['sales'].sum().plot(kind='bar')\n",
    "    plt.xticks(rotation=80)\n",
    "    plt.ylabel('total sales')\n",
    "    plt.xlabel(f'in store {store_num}')\n",
    "    plt.show()\n",
    "    break"
   ]
  },
  {
   "cell_type": "code",
   "execution_count": null,
   "id": "2e7aac80",
   "metadata": {},
   "outputs": [],
   "source": [
    "# 不同 family 種類的整體平均銷售情況，對個別店來說也有大致相同的情況\n",
    "train.groupby(['family']).sales.mean().plot(kind='bar')"
   ]
  },
  {
   "cell_type": "code",
   "execution_count": null,
   "id": "98e294bc",
   "metadata": {},
   "outputs": [],
   "source": [
    "# 幾乎每一間店的 sales 都與 onpromotion 有正相關\n",
    "\n",
    "for nbr in range(1, 55):\n",
    "    d_ = train[[col for col in train.columns if col not in ('id')]]\n",
    "    d_ = d_[d_['store_nbr'] == nbr]\n",
    "    d_ = d_[['sales', 'onpromotion', 'year']]\n",
    "    sns.heatmap(d_.corr(), annot=True)\n",
    "    plt.xlabel(f'store: {nbr}')\n",
    "    plt.show()\n",
    "    break"
   ]
  },
  {
   "cell_type": "code",
   "execution_count": null,
   "id": "7caafca4",
   "metadata": {},
   "outputs": [],
   "source": [
    "train.groupby(['year', 'family']).sales.sum()"
   ]
  },
  {
   "cell_type": "code",
   "execution_count": null,
   "id": "13198976",
   "metadata": {},
   "outputs": [],
   "source": [
    "#\n",
    "px.line(train.groupby(['year', 'store_nbr']).sales.sum().reset_index(), \n",
    "        x = \"year\", y = \"sales\", color = \"store_nbr\")"
   ]
  },
  {
   "cell_type": "code",
   "execution_count": null,
   "id": "6782279f",
   "metadata": {},
   "outputs": [],
   "source": [
    "#\n",
    "px.line(train.groupby(['family', 'store_nbr']).sales.sum().reset_index(), \n",
    "        x = \"family\", y = \"sales\", color = \"store_nbr\")"
   ]
  },
  {
   "cell_type": "code",
   "execution_count": null,
   "id": "eb8f9e95",
   "metadata": {},
   "outputs": [],
   "source": [
    "train.groupby(['year', 'family']).sales.sum()"
   ]
  },
  {
   "cell_type": "code",
   "execution_count": null,
   "id": "d6f7c882",
   "metadata": {},
   "outputs": [],
   "source": [
    "px.line(train.groupby(['year', 'family']).sales.sum().reset_index(), \n",
    "        x = \"year\", y = \"sales\", color = \"family\")"
   ]
  },
  {
   "cell_type": "code",
   "execution_count": null,
   "id": "7b44c43e",
   "metadata": {},
   "outputs": [],
   "source": []
  },
  {
   "cell_type": "markdown",
   "id": "270d4125",
   "metadata": {},
   "source": [
    "# stores.csv"
   ]
  },
  {
   "cell_type": "code",
   "execution_count": null,
   "id": "8b74a679",
   "metadata": {},
   "outputs": [],
   "source": [
    "stores = pd.read_csv(path + 'stores.csv')\n",
    "print(stores.shape)\n",
    "stores.head()"
   ]
  },
  {
   "cell_type": "code",
   "execution_count": null,
   "id": "e827c4f5",
   "metadata": {},
   "outputs": [],
   "source": [
    "stores.isna().sum()"
   ]
  },
  {
   "cell_type": "code",
   "execution_count": null,
   "id": "66b053d6",
   "metadata": {},
   "outputs": [],
   "source": [
    "print(f'got {len(stores.store_nbr)} different stores')\n",
    "print(f'got {len(stores.city.unique())} different cities')\n",
    "print(f'got {len(stores.state.unique())} different states')\n",
    "print(f'got {len(stores.type.unique())} different type type')\n",
    "print(f'got {len(stores.cluster.unique())} different clusters type')"
   ]
  },
  {
   "cell_type": "code",
   "execution_count": null,
   "id": "9944765d",
   "metadata": {},
   "outputs": [],
   "source": [
    "sns.countplot(data=stores, x='city')\n",
    "plt.xticks(rotation=80)\n",
    "plt.show()\n",
    "sns.countplot(data=stores, x='state')\n",
    "plt.xticks(rotation=80)\n",
    "plt.show()\n",
    "sns.countplot(data=stores, x='type')\n",
    "plt.show()\n",
    "sns.countplot(data=stores, x='cluster')\n",
    "plt.show()"
   ]
  },
  {
   "cell_type": "markdown",
   "id": "24bfa7c1",
   "metadata": {},
   "source": [
    "# train & store"
   ]
  },
  {
   "cell_type": "code",
   "execution_count": null,
   "id": "69115e00",
   "metadata": {},
   "outputs": [],
   "source": [
    "train = pd.read_csv(path + 'train.csv')\n",
    "train['date'] = pd.to_datetime(train['date'], format=\"%Y-%m-%d\")\n",
    "stores = pd.read_csv(path + 'stores.csv')"
   ]
  },
  {
   "cell_type": "code",
   "execution_count": null,
   "id": "85284cbc",
   "metadata": {},
   "outputs": [],
   "source": [
    "ts = pd.merge(train, stores)\n",
    "ts.tail(3)"
   ]
  },
  {
   "cell_type": "code",
   "execution_count": null,
   "id": "9d6b4515",
   "metadata": {},
   "outputs": [],
   "source": [
    "# 不同city，在各個年份中銷售總額\n",
    "ts[\"store_nbr\"] = ts[\"store_nbr\"].astype(\"int8\")\n",
    "ts[\"year\"] = ts.date.dt.year\n",
    "px.line(ts.groupby([\"city\", \"year\"]).sales.sum().reset_index(), \n",
    "        x = \"year\", y = \"sales\", color = \"city\")"
   ]
  },
  {
   "cell_type": "code",
   "execution_count": null,
   "id": "0618bde7",
   "metadata": {},
   "outputs": [],
   "source": [
    "# 不同city，在各個年份中銷售平均\n",
    "px.line(ts.groupby([\"city\", \"year\"]).sales.mean().reset_index(), \n",
    "        x = \"year\", y = \"sales\", color = \"city\")"
   ]
  },
  {
   "cell_type": "code",
   "execution_count": null,
   "id": "63f69d88",
   "metadata": {},
   "outputs": [],
   "source": [
    "px.line(ts.groupby([\"family\", \"city\"]).sales.mean().reset_index(), \n",
    "        x = \"family\", y = \"sales\", color = \"city\")"
   ]
  },
  {
   "cell_type": "code",
   "execution_count": null,
   "id": "9b8e9c7c",
   "metadata": {},
   "outputs": [],
   "source": [
    "ts.head(1)"
   ]
  },
  {
   "cell_type": "code",
   "execution_count": null,
   "id": "91960b73",
   "metadata": {},
   "outputs": [],
   "source": [
    "px.line(ts.groupby([\"year\", \"state\"]).sales.sum().reset_index(), \n",
    "        x = \"year\", y = \"sales\", color = \"state\")"
   ]
  },
  {
   "cell_type": "code",
   "execution_count": null,
   "id": "1877ca3a",
   "metadata": {},
   "outputs": [],
   "source": [
    "ts_ = ts[ts['onpromotion'].isin([0, 3, 5, 100, 150, 250])]\n",
    "px.line(ts_.groupby([\"family\", \"onpromotion\"]).sales.sum().reset_index(), \n",
    "        x = \"family\", y = \"sales\", color = \"onpromotion\")"
   ]
  },
  {
   "cell_type": "code",
   "execution_count": null,
   "id": "3f06099b",
   "metadata": {},
   "outputs": [],
   "source": [
    "family_sale_by_store = []\n",
    "for e, i in enumerate(range(33, 54*33+1, 33)):\n",
    "    store_sale = 0\n",
    "    family_sale_by_store.append([])\n",
    "    for family_type, sale in ts.groupby(['store_nbr', 'family']).sales.sum()[:i].items():\n",
    "        store_sale += sale\n",
    "        family_sale_by_store[-1].append(sale)\n",
    "        print(e+1, family_type[1], sale)\n",
    "    print('$', e+1, store_sale)\n",
    "    break"
   ]
  },
  {
   "cell_type": "code",
   "execution_count": null,
   "id": "82084d33",
   "metadata": {},
   "outputs": [],
   "source": [
    "sns.scatterplot(y = sorted(family_sale_by_store[0], reverse=True), x=list(range(33)))"
   ]
  },
  {
   "cell_type": "code",
   "execution_count": null,
   "id": "963d06d0",
   "metadata": {},
   "outputs": [],
   "source": [
    "for k, v in ts.groupby(['store_nbr', 'family']).sales.sum()[:33].items():\n",
    "    #print(k, v)\n",
    "    print(k[1], v)"
   ]
  },
  {
   "cell_type": "code",
   "execution_count": null,
   "id": "86d915d5",
   "metadata": {},
   "outputs": [],
   "source": []
  }
 ],
 "metadata": {
  "interpreter": {
   "hash": "b8fffb070d157b29bcbe373ef74d57cf4a2545d80c026126f07f9afc1e8a0fbd"
  },
  "kernelspec": {
   "display_name": "Python 3.9.7 ('base')",
   "language": "python",
   "name": "python3"
  },
  "language_info": {
   "codemirror_mode": {
    "name": "ipython",
    "version": 3
   },
   "file_extension": ".py",
   "mimetype": "text/x-python",
   "name": "python",
   "nbconvert_exporter": "python",
   "pygments_lexer": "ipython3",
   "version": "3.9.7"
  }
 },
 "nbformat": 4,
 "nbformat_minor": 5
}
